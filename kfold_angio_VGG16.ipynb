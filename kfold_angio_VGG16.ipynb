{
  "cells": [
    {
      "cell_type": "markdown",
      "metadata": {
        "id": "view-in-github",
        "colab_type": "text"
      },
      "source": [
        "<a href=\"https://colab.research.google.com/github/EhsanRAmoli/WCE_Deep-learning/blob/main/kfold_angio_VGG16.ipynb\" target=\"_parent\"><img src=\"https://colab.research.google.com/assets/colab-badge.svg\" alt=\"Open In Colab\"/></a>"
      ]
    },
    {
      "cell_type": "markdown",
      "metadata": {
        "id": "0klX6IHn8JJj"
      },
      "source": [
        "# Dependencies & tools"
      ]
    },
    {
      "cell_type": "code",
      "execution_count": null,
      "metadata": {
        "colab": {
          "base_uri": "https://localhost:8080/"
        },
        "id": "cg-aiVZL4kc9",
        "outputId": "7cbb6264-58f7-4cda-ef6a-3904f30f6f3e"
      },
      "outputs": [
        {
          "output_type": "stream",
          "name": "stdout",
          "text": [
            "keras_ versio: 2.11.0\n",
            "Sat Feb 11 07:30:13 2023       \n",
            "+-----------------------------------------------------------------------------+\n",
            "| NVIDIA-SMI 510.47.03    Driver Version: 510.47.03    CUDA Version: 11.6     |\n",
            "|-------------------------------+----------------------+----------------------+\n",
            "| GPU  Name        Persistence-M| Bus-Id        Disp.A | Volatile Uncorr. ECC |\n",
            "| Fan  Temp  Perf  Pwr:Usage/Cap|         Memory-Usage | GPU-Util  Compute M. |\n",
            "|                               |                      |               MIG M. |\n",
            "|===============================+======================+======================|\n",
            "|   0  Tesla T4            Off  | 00000000:00:04.0 Off |                    0 |\n",
            "| N/A   40C    P0    26W /  70W |      0MiB / 15360MiB |      0%      Default |\n",
            "|                               |                      |                  N/A |\n",
            "+-------------------------------+----------------------+----------------------+\n",
            "                                                                               \n",
            "+-----------------------------------------------------------------------------+\n",
            "| Processes:                                                                  |\n",
            "|  GPU   GI   CI        PID   Type   Process name                  GPU Memory |\n",
            "|        ID   ID                                                   Usage      |\n",
            "|=============================================================================|\n",
            "|  No running processes found                                                 |\n",
            "+-----------------------------------------------------------------------------+\n"
          ]
        }
      ],
      "source": [
        "# %tensorflow_version 1.x magic\n",
        "# import tensorflow as tf\n",
        "# %tf_version 1.14.0\n",
        "# tensorflow_version=1.14\n",
        "from tensorflow import keras\n",
        "# from tensorflow import keras\n",
        "print('keras_ versio:', keras.__version__)\n",
        "# print('tf_version:', tf.__version__)\n",
        " \n",
        "# !cp -r path/to/google_drive_data_dir/ path/to/colab_data_dir \n",
        " \n",
        "from __future__ import print_function\n",
        "import numpy as np\n",
        "import matplotlib.pyplot as plt\n",
        " \n",
        "gpu_info = !nvidia-smi\n",
        "gpu_info = '\\n'.join(gpu_info)\n",
        "if gpu_info.find('failed') >= 0:\n",
        "  print('Select the Runtime > \"Change runtime type\" menu to enable a GPU accelerator, ')\n",
        "  print('and then re-execute this cell.')\n",
        "else:\n",
        "  print(gpu_info)"
      ]
    },
    {
      "cell_type": "code",
      "execution_count": null,
      "metadata": {
        "colab": {
          "base_uri": "https://localhost:8080/"
        },
        "id": "PJlaz2yCo0D2",
        "outputId": "38aa5d81-9b39-4bbb-9375-eaed60061b3a"
      },
      "outputs": [
        {
          "output_type": "stream",
          "name": "stdout",
          "text": [
            "Looking in indexes: https://pypi.org/simple, https://us-python.pkg.dev/colab-wheels/public/simple/\n",
            "Requirement already satisfied: tqdm in /usr/local/lib/python3.8/dist-packages (4.64.1)\n"
          ]
        }
      ],
      "source": [
        "!pip install tqdm\n"
      ]
    },
    {
      "cell_type": "code",
      "execution_count": null,
      "metadata": {
        "colab": {
          "base_uri": "https://localhost:8080/"
        },
        "id": "YeB-7Vd6M6h9",
        "outputId": "e4e006ab-3171-49fb-af17-a74a37bc3500"
      },
      "outputs": [
        {
          "output_type": "stream",
          "name": "stdout",
          "text": [
            "Your runtime has 27.3 gigabytes of available RAM\n",
            "\n",
            "You are using a high-RAM runtime!\n"
          ]
        }
      ],
      "source": [
        "from psutil import virtual_memory\n",
        "ram_gb = virtual_memory().total / 1e9\n",
        "print('Your runtime has {:.1f} gigabytes of available RAM\\n'.format(ram_gb))\n",
        "\n",
        "if ram_gb < 20:\n",
        "  print('To enable a high-RAM runtime, select the Runtime > \"Change runtime type\"')\n",
        "  print('menu, and then select High-RAM in the Runtime shape dropdown. Then, ')\n",
        "  print('re-execute this cell.')\n",
        "else:\n",
        "  print('You are using a high-RAM runtime!')"
      ]
    },
    {
      "cell_type": "code",
      "execution_count": null,
      "metadata": {
        "colab": {
          "base_uri": "https://localhost:8080/"
        },
        "id": "GY-mLrrhbPoh",
        "outputId": "05f8e7b8-8bbf-4d74-8473-ba1c55b19269"
      },
      "outputs": [
        {
          "output_type": "stream",
          "name": "stdout",
          "text": [
            "Mounted at /drive\n"
          ]
        }
      ],
      "source": [
        "from google.colab import drive\n",
        "drive.mount(\"/drive\", force_remount=True)"
      ]
    },
    {
      "cell_type": "code",
      "execution_count": null,
      "metadata": {
        "colab": {
          "base_uri": "https://localhost:8080/"
        },
        "id": "-ax-QDyu4rBo",
        "outputId": "205700e5-1175-4375-b118-28d0adce24f3"
      },
      "outputs": [
        {
          "output_type": "stream",
          "name": "stdout",
          "text": [
            "2.11.0\n",
            "2.11.0\n",
            "['angiodysplasia']\n",
            "['validation', 'test', 'train72', 'train', 'main_data', 'test_pathology', 'test_new', 'test_ulcer', 'test_erosion', 'test_blood', 'test_polyp', 'test_erythematous', 'test_lymphoidhyperplasia', 'test_normal', 'test_angiectasia', 'validation_angiectasia', 'test_angiectasia_150', 'saved_models', 'fold_1', 'fold_2', 'fold_3', 'fold_4', 'fold_5']\n"
          ]
        }
      ],
      "source": [
        "# %tensorflow_version 1.x magic\n",
        "import tensorflow as tf\n",
        "# %tf_version 1.14.0\n",
        "# tensorflow_version=1.14\n",
        "from tensorflow import keras\n",
        "import keras\n",
        "print(keras.__version__)\n",
        "print(tf.__version__)\n",
        "\n",
        "# from __future__ import print_function\n",
        "import numpy as np\n",
        "import matplotlib.pyplot as plt\n",
        "from keras import models\n",
        "from keras import optimizers, losses\n",
        "import os, shutil\n",
        "from keras import models\n",
        "from keras import activations\n",
        "from keras import layers\n",
        "from keras.layers import Conv2D, MaxPooling2D, Dense, Dropout, Activation, Flatten\n",
        "from keras.layers import AveragePooling2D\n",
        "from tensorflow.keras.optimizers import Adam\n",
        "from tensorflow.keras.layers import LayerNormalization, BatchNormalization\n",
        "# from keras.layers.normalization import \n",
        "from keras.callbacks import ModelCheckpoint\n",
        "from keras.callbacks import EarlyStopping\n",
        "from keras.callbacks import LearningRateScheduler, ReduceLROnPlateau\n",
        "from keras.regularizers import l2\n",
        "from keras.layers.convolutional import SeparableConv2D\n",
        "from keras import backend as K\n",
        "from keras import utils\n",
        "from keras.models import  Model\n",
        "from keras.preprocessing.image import ImageDataGenerator\n",
        "from keras.models import Sequential\n",
        "from keras import regularizers\n",
        "\n",
        "\n",
        "\n",
        "original_dataset_dir= \"/drive/My Drive/WCE/ANGIODYSPLASIA DETECTION AND LOCALIZATION\"\n",
        "base_dir= \"/drive/My Drive/WCE/ANGIODYSPLASIA DETECTION AND LOCALIZATION/angiodysplasia\"\n",
        "# os.mkdir(base_dir)\n",
        "print(os.listdir(original_dataset_dir))\n",
        "# print(len(os.listdir(\"/drive/My Drive/MESSIDOR/P10\")))\n",
        "print(os.listdir(base_dir))"
      ]
    },
    {
      "cell_type": "code",
      "execution_count": null,
      "metadata": {
        "colab": {
          "base_uri": "https://localhost:8080/"
        },
        "id": "YC1sLc-6bf_Z",
        "outputId": "19002668-285c-470f-dfad-05843fb3579f"
      },
      "outputs": [
        {
          "name": "stdout",
          "output_type": "stream",
          "text": [
            "Enter the architecture name:vgg16\n",
            "define the version: \n",
            "15\n"
          ]
        }
      ],
      "source": [
        "architecture= input('Enter the architecture name:')\n",
        "trial_number=input('define the version: \\n')\n",
        "# 15"
      ]
    },
    {
      "cell_type": "markdown",
      "metadata": {
        "id": "RlnRV39HNjOB"
      },
      "source": [
        "# data directory"
      ]
    },
    {
      "cell_type": "code",
      "execution_count": null,
      "metadata": {
        "colab": {
          "base_uri": "https://localhost:8080/"
        },
        "id": "Nl-CBSNVsqR3",
        "outputId": "b97f9404-5556-485f-b180-e8538463b59c"
      },
      "outputs": [
        {
          "name": "stdout",
          "output_type": "stream",
          "text": [
            "define the fold number: \n",
            "1\n"
          ]
        }
      ],
      "source": [
        "fold_number= input('define the fold number: \\n')"
      ]
    },
    {
      "cell_type": "code",
      "execution_count": null,
      "metadata": {
        "colab": {
          "base_uri": "https://localhost:8080/"
        },
        "id": "Dw7USijBmlNL",
        "outputId": "f686f67c-6e28-4bfb-e9cb-08271bcde8d9"
      },
      "outputs": [
        {
          "output_type": "stream",
          "name": "stdout",
          "text": [
            "['angiodysplasia']\n",
            "['train', 'test_old', 'test']\n",
            "train directory:  ['Angiectasia', 'Inflammatory', 'Normal', 'Vascular_lesion']\n",
            "test directory:  ['Normal', 'Angiectasia', 'Vascular_lesion', 'Inflammatory']\n"
          ]
        }
      ],
      "source": [
        "original_dataset_dir= \"/drive/My Drive/WCE/ANGIODYSPLASIA DETECTION AND LOCALIZATION\"\n",
        "base_dir= f\"/drive/My Drive/WCE/ANGIODYSPLASIA DETECTION AND LOCALIZATION/angiodysplasia/fold_{fold_number}\"\n",
        "\n",
        "\n",
        "# os.mkdir(base_dir)\n",
        "print(os.listdir(original_dataset_dir))\n",
        "# print(len(os.listdir(\"/drive/My Drive/MESSIDOR/P10\")))\n",
        "print(os.listdir(base_dir))\n",
        "\n",
        "train_dir = os.path.join(base_dir,'train')\n",
        "test_dir = os.path.join(base_dir,'test')\n",
        "\n",
        "train_normal_dir = os.path.join(train_dir,'Normal')\n",
        "train_vlesion_dir= os.path.join(train_dir,'Vascular_lesion')\n",
        "train_inflamatory_dir = os.path.join(train_dir,'Inflammatory')\n",
        "train_angiectasia_dir = os.path.join(train_dir,'Angiectasia')\n",
        "print(\"train directory: \", os.listdir(train_dir))\n",
        "\n",
        "test_normal_dir = os.path.join(test_dir,'Normal')\n",
        "test_vlesion_dir = os.path.join(test_dir,'Vascular_lesion')\n",
        "test_inflamatory_dir= os.path.join(test_dir,'Inflammatory')\n",
        "test_angiectasia_dir= os.path.join(test_dir,'Angiectasia')\n",
        "print(\"test directory: \", os.listdir(test_dir))"
      ]
    },
    {
      "cell_type": "markdown",
      "metadata": {
        "id": "ZWSQ-ovsMVU-"
      },
      "source": [
        "## set the fold directory \n"
      ]
    },
    {
      "cell_type": "code",
      "execution_count": null,
      "metadata": {
        "colab": {
          "base_uri": "https://localhost:8080/"
        },
        "id": "vBobSfFbNjOH",
        "outputId": "c4788a3d-a7d9-4951-b405-eb4e12a5f958"
      },
      "outputs": [
        {
          "output_type": "stream",
          "name": "stdout",
          "text": [
            "336\n",
            "84\n"
          ]
        }
      ],
      "source": [
        "len_test=len(os.listdir(test_normal_dir))+len(os.listdir(test_vlesion_dir))+len(os.listdir(test_inflamatory_dir)) + len(os.listdir(test_angiectasia_dir))\n",
        "len_train=len(os.listdir(train_normal_dir))+len(os.listdir(train_vlesion_dir))+len(os.listdir(train_inflamatory_dir)) + len(os.listdir(train_angiectasia_dir))\n",
        "\n",
        "print(len_test)\n",
        "print(len(os.listdir(test_angiectasia_dir)))"
      ]
    },
    {
      "cell_type": "markdown",
      "metadata": {
        "id": "AqeaINSxtVMY"
      },
      "source": [
        "# Fold definition"
      ]
    },
    {
      "cell_type": "markdown",
      "metadata": {
        "id": "8G-bbQDMLmwy"
      },
      "source": [
        "## fold_maker function"
      ]
    },
    {
      "cell_type": "code",
      "execution_count": null,
      "metadata": {
        "id": "7WktRc9XLnJZ"
      },
      "outputs": [],
      "source": [
        "# def fold_maker(train_list, k):\n",
        "#   main_tags = [item.split(\"-\")[0] for item in train_list]\n",
        "#   # print('main_tags:', main_tags)\n",
        "#   x= set(main_tags)\n",
        "#   # print(len(x))\n",
        "#   pathology_list= list(x)\n",
        "#   # print('pathology_list:', pathology_list)\n",
        "#   # print('len(pathology_list):', len(pathology_list))\n",
        "\n",
        "#   format= list(set([item.split('.')[-1] for item in train_list]))\n",
        "#   format= list(set(format).intersection({'jpg', 'png'}))\n",
        "#   if len(format)==1:\n",
        "#     format= '.'+format[0]\n",
        "#   # print(format)\n",
        "\n",
        "#   fold_size= int(len(x)/k)\n",
        "\n",
        "#   fold_dicts=[]\n",
        "#   for i in range(1,k+1):\n",
        "\n",
        "#     fold_train= []\n",
        "#     # print(f'************** fold_{i} ****************')\n",
        "#     test_frames_tag= pathology_list[(i-1)*fold_size:i*fold_size]\n",
        "#     fold_test= [item.split('-')[0] + '-rot(0)-brt(0)'+ format for item in test_frames_tag]\n",
        "#     # print(len(fold_test))\n",
        "#     # print(fold_test)\n",
        "\n",
        "#     for frame in train_list:\n",
        "#       main= frame.split(\"-\")[0] \n",
        "\n",
        "#       if main not in test_frames_tag:\n",
        "#         fold_train.append(frame)\n",
        "\n",
        "#     fold_dict=  {'fold': i,\n",
        "#                   f'test_{i}': fold_test,\n",
        "#                   f'train_{i}':fold_train}\n",
        "\n",
        "#     fold_dicts.append(fold_dict)\n",
        "\n",
        "#   lod_pathology= [(i, d) for i, d in enumerate(fold_dicts)]\n",
        "#   return lod_pathology\n",
        "\n"
      ]
    },
    {
      "cell_type": "markdown",
      "metadata": {
        "id": "1U_HCrzHAF6X"
      },
      "source": [
        "## make_directory function"
      ]
    },
    {
      "cell_type": "code",
      "execution_count": null,
      "metadata": {
        "colab": {
          "base_uri": "https://localhost:8080/"
        },
        "id": "_oJ3F_Qu-l1E",
        "outputId": "3e90de2a-d2f8-4ecc-e19d-6070e83e1d81"
      },
      "outputs": [
        {
          "name": "stdout",
          "output_type": "stream",
          "text": [
            "2\n",
            "3\n",
            "4\n",
            "5\n"
          ]
        }
      ],
      "source": [
        "# def make_directory(base_directory , file_name):\n",
        "#   os.chdir(base_directory)\n",
        "#   if not os.path.exists(file_name):\n",
        "#     os.mkdir(file_name)\n",
        "\n",
        "# for i in range(2,6):\n",
        "#   # os.mkdir('fold_file')\n",
        "#   print(i)\n",
        "\n",
        "  # make_directory(base_dir, f'fold_{i}')"
      ]
    },
    {
      "cell_type": "code",
      "execution_count": null,
      "metadata": {
        "colab": {
          "base_uri": "https://localhost:8080/"
        },
        "id": "KfakF0uAE2gf",
        "outputId": "07f5b4df-418a-409d-c3b0-0ca2f9d711b6"
      },
      "outputs": [
        {
          "name": "stdout",
          "output_type": "stream",
          "text": [
            "0\n",
            "1\n"
          ]
        }
      ],
      "source": [
        "# from IPython.lib.display import exists\n",
        "# import os\n",
        "\n",
        "# for i in range(2):\n",
        "#   # os.mkdir('fold_file')\n",
        "#   print(i)\n",
        "\n",
        "#   # make_directory(base_dir, f'fold_{i}')\n",
        "\n",
        "#   # os.chdir(base_dir + f'/fold_{i}')\n",
        "  \n",
        "# i=1\n",
        "# make_directory(base_dir + f'/fold_{i}', 'train')\n",
        "# make_directory(base_dir + f'/fold_{i}', 'test')\n",
        "\n",
        "# # os.chdir(base_dir + f'/fold_{i}' + '/train')\n",
        "# make_directory(base_dir + f'/fold_{i}' + '/train', 'Angiectasia')\n",
        "# make_directory(base_dir + f'/fold_{i}' + '/train', 'Inflammatory')\n",
        "# make_directory(base_dir + f'/fold_{i}' + '/train', 'Normal')\n",
        "# make_directory(base_dir + f'/fold_{i}' + '/train', 'Vascular_lesion')\n",
        "\n",
        "# # os.chdir(base_dir + f'/fold_{i}' + '/test')\n",
        "# make_directory(base_dir + f'/fold_{i}' + '/test', 'Angiectasia')\n",
        "# make_directory(base_dir + f'/fold_{i}' + '/test', 'Inflammatory')\n",
        "# make_directory(base_dir + f'/fold_{i}' + '/test', 'Normal')\n",
        "# make_directory(base_dir + f'/fold_{i}' + '/test', 'Vascular_lesion')\n",
        "\n"
      ]
    },
    {
      "cell_type": "markdown",
      "metadata": {
        "id": "-yMfE_5MT2My"
      },
      "source": [
        "## directory_definer function"
      ]
    },
    {
      "cell_type": "code",
      "execution_count": null,
      "metadata": {
        "id": "RzDEhmxkMVw2"
      },
      "outputs": [],
      "source": [
        "# import shutil\n",
        "# def directory_definer(base_dir, i):\n",
        "#   main_dir= base_dir + f'/fold_{i}'\n",
        "#   os.chdir(main_dir)\n",
        "\n",
        "#   train_dir= os.path.join('train')\n",
        "#   test_dir= os.path.join('test')\n",
        "#   train_fold_angiectasia_dir= os.path.join(train_dir, 'Angiectasia')\n",
        "#   test_fold_angiectasia_dir= os.path.join(test_dir, 'Angiectasia')\n",
        "#   train_fold_inflammatory_dir= os.path.join(train_dir, 'Inflammatory')\n",
        "#   test_fold_inflammatory_dir= os.path.join(test_dir, 'Inflammatory')\n",
        "#   train_fold_normal_dir= os.path.join(train_dir, 'Normal')\n",
        "#   test_fold_normal_dir= os.path.join(test_dir, 'Normal')\n",
        "#   train_fold_vlesion_dir= os.path.join(train_dir, 'Vascular_lesion')\n",
        "#   test_fold_vlesion_dir= os.path.join(test_dir, 'Vascular_lesion')\\\n",
        "\n",
        "#   train_angiectasia_list=  os.listdir(train_angiectasia_dir)\n",
        "#   train_inflamatory_list=  os.listdir(train_inflamatory_dir)\n",
        "#   train_normal_list=  os.listdir(train_normal_dir)\n",
        "#   train_vlesion_list=  os.listdir(train_vlesion_dir)\n",
        "\n",
        "#   x_ang= fold_maker(train_angiectasia_list, 5)\n",
        "#   x_inf= fold_maker(train_inflamatory_list, 5)\n",
        "#   x_nr= fold_maker(train_normal_list, 5)\n",
        "#   x_vl= fold_maker(train_vlesion_list, 5)\n",
        "\n",
        "#   test_ang_fold_list= x_ang[i-1][1][f'test_{i}']\n",
        "#   test_inf_fold_list= x_inf[i-1][1][f'test_{i}']\n",
        "#   test_nr_fold_list= x_nr[i-1][1][f'test_{i}']\n",
        "#   test_vl_fold_list= x_vl[i-1][1][f'test_{i}']\n",
        "\n",
        "#   train_ang_fold_list= x_ang[i-1][1][f'train_{i}']\n",
        "#   train_inf_fold_list= x_inf[i-1][1][f'train_{i}']\n",
        "#   train_nr_fold_list= x_nr[i-1][1][f'train_{i}']\n",
        "#   train_vl_fold_list= x_vl[i-1][1][f'train_{i}']\n",
        "\n",
        "#   from tqdm import tqdm\n",
        "#   for i in tqdm(range(len(test_ang_fold_list))):\n",
        "#     shutil.copy(train_angiectasia_dir +'/'+ test_ang_fold_list[i], test_fold_angiectasia_dir)\n",
        "#   for i in tqdm(range(len(test_inf_fold_list))):\n",
        "#     shutil.copy(train_inflamatory_dir +'/'+ test_inf_fold_list[i], test_fold_inflammatory_dir)\n",
        "#   for i in tqdm(range(len(test_nr_fold_list))):\n",
        "#     shutil.copy(train_normal_dir +'/'+ test_nr_fold_list[i], test_fold_normal_dir)\n",
        "#   for i in tqdm(range(len(test_vl_fold_list))):\n",
        "#     shutil.copy(train_vlesion_dir +'/'+ test_vl_fold_list[i], test_fold_vlesion_dir)\n",
        "\n",
        "#   import time\n",
        "  \n",
        "#   for j in tqdm(range(len(train_ang_fold_list))):\n",
        "#     shutil.copy(train_angiectasia_dir +'/'+ train_ang_fold_list[j] , train_fold_angiectasia_dir)\n",
        "#   for j in tqdm(range(len(train_inf_fold_list))):\n",
        "#     shutil.copy(train_inflamatory_dir +'/'+ train_inf_fold_list[j] , train_fold_inflammatory_dir)\n",
        "#   for j in tqdm(range(len(train_nr_fold_list))):\n",
        "#     shutil.copy(train_normal_dir +'/'+ train_nr_fold_list[j] , train_fold_normal_dir)\n",
        "#   for j in tqdm(range(len(train_vl_fold_list))):\n",
        "#     shutil.copy(train_vlesion_dir +'/'+ train_vl_fold_list[j] , train_fold_vlesion_dir)\n",
        "\n",
        "\n",
        "  # print(len(train_ang_fold_list))\n"
      ]
    },
    {
      "cell_type": "code",
      "execution_count": null,
      "metadata": {
        "colab": {
          "base_uri": "https://localhost:8080/"
        },
        "id": "FpX-Zo17LDKt",
        "outputId": "0025b511-4b47-4a74-9822-4b55bdca29f6"
      },
      "outputs": [
        {
          "name": "stderr",
          "output_type": "stream",
          "text": [
            "100%|██████████| 84/84 [00:04<00:00, 20.68it/s]\n",
            "100%|██████████| 84/84 [00:00<00:00, 112.72it/s]\n",
            "100%|██████████| 84/84 [00:00<00:00, 99.53it/s]\n",
            "100%|██████████| 84/84 [00:01<00:00, 78.37it/s]\n",
            "100%|██████████| 5040/5040 [00:54<00:00, 92.60it/s]\n",
            "100%|██████████| 5040/5040 [17:04<00:00,  4.92it/s]\n",
            "100%|██████████| 5040/5040 [16:32<00:00,  5.08it/s]\n",
            "100%|██████████| 5041/5041 [18:17<00:00,  4.59it/s]\n"
          ]
        }
      ],
      "source": [
        "# directory_definer(base_dir, i=1)"
      ]
    },
    {
      "cell_type": "markdown",
      "metadata": {
        "id": "nwWA5kILUG1R"
      },
      "source": [
        "## check directory"
      ]
    },
    {
      "cell_type": "code",
      "execution_count": null,
      "metadata": {
        "colab": {
          "base_uri": "https://localhost:8080/"
        },
        "id": "ganHCx1gvtOt",
        "outputId": "af56e14a-9fe2-475c-ebb0-10426b0cad63"
      },
      "outputs": [
        {
          "name": "stdout",
          "output_type": "stream",
          "text": [
            "len(/train/Angiectasia): 5040\n",
            "len(/train/Inflammatory): 5040\n",
            "len(/train/Normal): 5040\n",
            "len(/train/Vascular_lesion): 5041\n",
            "len(/test/Angiectasia): 84\n",
            "len(/test/Inflammatory): 84\n",
            "len(/test/Normal): 84\n",
            "len(/test/Vascular_lesion): 84\n"
          ]
        }
      ],
      "source": [
        "# i=1\n",
        "# print('len(/train/Angiectasia):', len(os.listdir(base_dir + f'/fold_{i}' + '/train/Angiectasia')))\n",
        "# print('len(/train/Inflammatory):', len(os.listdir(base_dir + f'/fold_{i}' + '/train/Inflammatory')))\n",
        "# print('len(/train/Normal):', len(os.listdir(base_dir + f'/fold_{i}' + '/train/Normal')))\n",
        "# print('len(/train/Vascular_lesion):', len(os.listdir(base_dir + f'/fold_{i}' + '/train/Vascular_lesion')))\n",
        "\n",
        "# print('len(/test/Angiectasia):', len(os.listdir(base_dir + f'/fold_{i}' + '/test/Angiectasia')))\n",
        "# print('len(/test/Inflammatory):', len(os.listdir(base_dir + f'/fold_{i}' + '/test/Inflammatory')))\n",
        "# print('len(/test/Normal):', len(os.listdir(base_dir + f'/fold_{i}' + '/test/Normal')))\n",
        "# print('len(/test/Vascular_lesion):', len(os.listdir(base_dir + f'/fold_{i}' + '/test/Vascular_lesion')))\n",
        "\n",
        "# print(len(os.listdir(train_fold_angiectasia_dir)))"
      ]
    },
    {
      "cell_type": "code",
      "execution_count": null,
      "metadata": {
        "colab": {
          "base_uri": "https://localhost:8080/"
        },
        "id": "FnrMBSf7z0SC",
        "outputId": "10e0b466-8e15-404c-85d1-5b6681c6b6e1"
      },
      "outputs": [
        {
          "name": "stdout",
          "output_type": "stream",
          "text": [
            "Angiectasia\n",
            "intersection_list:  []\n",
            "Inflammatory\n",
            "intersection_list:  []\n",
            "Normal\n",
            "intersection_list:  []\n",
            "Vascular_lesion\n",
            "intersection_list:  []\n"
          ]
        }
      ],
      "source": [
        "# i=5\n",
        "# train_dir= base_dir + f'/fold_{i}/train/'\n",
        "# test_dir= base_dir + f'/fold_{i}/test/'\n",
        "# pathologies= ['Angiectasia', 'Inflammatory', 'Normal', 'Vascular_lesion']\n",
        "# for pathology in pathologies:\n",
        "#   print(pathology)\n",
        "#   train_path_dir= train_dir + pathology\n",
        "#   test_path_dir= test_dir + pathology\n",
        "#   train_list= os.listdir(train_path_dir)\n",
        "#   train_set= set([item.split('-')[0] for item in train_list])\n",
        "#   test_list= os.listdir(test_path_dir)\n",
        "#   test_set= set([item.split('-')[0] for item in test_list])\n",
        "#   if set(train_set).intersection(test_set) !={}:\n",
        "#     print('intersection_list: ', list(set(train_set).intersection(test_set)))\n",
        "\n",
        "\n",
        "\n"
      ]
    },
    {
      "cell_type": "markdown",
      "metadata": {
        "id": "o3pWECdfMuZG"
      },
      "source": [
        "# hyperparameter definition"
      ]
    },
    {
      "cell_type": "code",
      "execution_count": null,
      "metadata": {
        "id": "9Ugm7K3fMuZH"
      },
      "outputs": [],
      "source": [
        "CLASSES = 4\n",
        "batch_size= 64\n",
        "input_size=288\n",
        "dense_nodes=256\n",
        "depth_freeze= 8\n",
        "drop_out= 0.0\n",
        "opt= 'Adadelta'\n",
        "learning_rate= 0.08\n",
        "reg_lr= 0.03\n",
        "base=2\n",
        "alpha=0.2\n",
        "activation_function='elu'"
      ]
    },
    {
      "cell_type": "markdown",
      "metadata": {
        "id": "LrlJHbV9Sv4K"
      },
      "source": [
        "# generator definition\n",
        "### train, validation, test"
      ]
    },
    {
      "cell_type": "code",
      "execution_count": null,
      "metadata": {
        "colab": {
          "base_uri": "https://localhost:8080/"
        },
        "id": "4h_DdHX_NjOJ",
        "outputId": "e6270719-5e9e-441c-c8fe-e39da1215bd5"
      },
      "outputs": [
        {
          "output_type": "stream",
          "name": "stdout",
          "text": [
            "Training Set : \n",
            "Found 20160 images belonging to 4 classes.\n",
            "Found 336 images belonging to 4 classes.\n"
          ]
        }
      ],
      "source": [
        "train_datagen = ImageDataGenerator(rescale=1./255,\n",
        "                                    rotation_range=36,\n",
        "                                    width_shift_range=0.2,\n",
        "                                    height_shift_range= 0.2,\n",
        "                                    shear_range=0.2,\n",
        "                                    zoom_range=0.2,\n",
        "                                    horizontal_flip=True,\n",
        "                                    vertical_flip=True,\n",
        "                                    brightness_range=(0.5,1), \n",
        "                                    fill_mode='nearest')\n",
        "\n",
        "test_datagen= ImageDataGenerator(rescale=1./255)\n",
        "\n",
        "print(\"Training Set : \")\n",
        "train_generator = train_datagen.flow_from_directory(train_dir,\n",
        "                                                    target_size = (input_size, input_size),\n",
        "                                                    batch_size = batch_size)\n",
        "                                                    # class_mode = label_mode)\n",
        "\n",
        "# print(\"Validation Set : \")\n",
        "# validation_generator = test_datagen.flow_from_directory(validation_dir,\n",
        "#                                                         target_size = (input_size, input_size))\n",
        "#                                                         # class_mode = label_mode)\n",
        "\n",
        "test_datagen= ImageDataGenerator(rescale=1./255)\n",
        "test_generator = test_datagen.flow_from_directory(test_dir,\n",
        "                                                  target_size=(input_size, input_size),\n",
        "                                                  batch_size=batch_size,\n",
        "                                                  shuffle= False,\n",
        "                                                  class_mode='categorical')"
      ]
    },
    {
      "cell_type": "markdown",
      "metadata": {
        "id": "dFE1yHuw2dig"
      },
      "source": [
        "# Fine Tunning"
      ]
    },
    {
      "cell_type": "code",
      "execution_count": null,
      "metadata": {
        "colab": {
          "base_uri": "https://localhost:8080/"
        },
        "id": "49quI4dcfNYg",
        "outputId": "df588c7c-7d76-4f40-9e17-224f913fece0"
      },
      "outputs": [
        {
          "output_type": "stream",
          "name": "stdout",
          "text": [
            "Downloading data from https://storage.googleapis.com/tensorflow/keras-applications/vgg16/vgg16_weights_tf_dim_ordering_tf_kernels.h5\n",
            "553467096/553467096 [==============================] - 26s 0us/step\n",
            "Downloading data from https://storage.googleapis.com/tensorflow/keras-applications/vgg16/vgg16_weights_tf_dim_ordering_tf_kernels_notop.h5\n",
            "58889256/58889256 [==============================] - 4s 0us/step\n",
            "0 input_3 - False\n",
            "1 block1_conv1 - False\n",
            "2 block1_conv2 - False\n",
            "3 block1_pool - False\n",
            "4 block2_conv1 - False\n",
            "5 block2_conv2 - False\n",
            "6 block2_pool - False\n",
            "7 block3_conv1 - False\n",
            "8 block3_conv2 - True\n",
            "9 block3_conv3 - True\n",
            "10 block3_pool - True\n",
            "11 block4_conv1 - True\n",
            "12 block4_conv2 - True\n",
            "13 block4_conv3 - True\n",
            "14 block4_pool - True\n",
            "15 block5_conv1 - True\n",
            "16 block5_conv2 - True\n",
            "17 block5_conv3 - True\n",
            "18 block5_pool - True\n",
            "19 global_average_pooling2d - True\n",
            "20 batch_normalization - True\n",
            "21 dense - True\n",
            "22 batch_normalization_1 - True\n",
            "23 dense_1 - True\n",
            "24 batch_normalization_2 - True\n",
            "25 dropout - True\n",
            "26 dense_2 - True\n",
            "Model: \"model_1\"\n",
            "_________________________________________________________________\n",
            " Layer (type)                Output Shape              Param #   \n",
            "=================================================================\n",
            " input_3 (InputLayer)        [(None, 288, 288, 3)]     0         \n",
            "                                                                 \n",
            " block1_conv1 (Conv2D)       (None, 288, 288, 64)      1792      \n",
            "                                                                 \n",
            " block1_conv2 (Conv2D)       (None, 288, 288, 64)      36928     \n",
            "                                                                 \n",
            " block1_pool (MaxPooling2D)  (None, 144, 144, 64)      0         \n",
            "                                                                 \n",
            " block2_conv1 (Conv2D)       (None, 144, 144, 128)     73856     \n",
            "                                                                 \n",
            " block2_conv2 (Conv2D)       (None, 144, 144, 128)     147584    \n",
            "                                                                 \n",
            " block2_pool (MaxPooling2D)  (None, 72, 72, 128)       0         \n",
            "                                                                 \n",
            " block3_conv1 (Conv2D)       (None, 72, 72, 256)       295168    \n",
            "                                                                 \n",
            " block3_conv2 (Conv2D)       (None, 72, 72, 256)       590080    \n",
            "                                                                 \n",
            " block3_conv3 (Conv2D)       (None, 72, 72, 256)       590080    \n",
            "                                                                 \n",
            " block3_pool (MaxPooling2D)  (None, 36, 36, 256)       0         \n",
            "                                                                 \n",
            " block4_conv1 (Conv2D)       (None, 36, 36, 512)       1180160   \n",
            "                                                                 \n",
            " block4_conv2 (Conv2D)       (None, 36, 36, 512)       2359808   \n",
            "                                                                 \n",
            " block4_conv3 (Conv2D)       (None, 36, 36, 512)       2359808   \n",
            "                                                                 \n",
            " block4_pool (MaxPooling2D)  (None, 18, 18, 512)       0         \n",
            "                                                                 \n",
            " block5_conv1 (Conv2D)       (None, 18, 18, 512)       2359808   \n",
            "                                                                 \n",
            " block5_conv2 (Conv2D)       (None, 18, 18, 512)       2359808   \n",
            "                                                                 \n",
            " block5_conv3 (Conv2D)       (None, 18, 18, 512)       2359808   \n",
            "                                                                 \n",
            " block5_pool (MaxPooling2D)  (None, 9, 9, 512)         0         \n",
            "                                                                 \n",
            " global_average_pooling2d (G  (None, 512)              0         \n",
            " lobalAveragePooling2D)                                          \n",
            "                                                                 \n",
            " batch_normalization (BatchN  (None, 512)              2048      \n",
            " ormalization)                                                   \n",
            "                                                                 \n",
            " dense (Dense)               (None, 256)               131328    \n",
            "                                                                 \n",
            " batch_normalization_1 (Batc  (None, 256)              1024      \n",
            " hNormalization)                                                 \n",
            "                                                                 \n",
            " dense_1 (Dense)             (None, 32)                8224      \n",
            "                                                                 \n",
            " batch_normalization_2 (Batc  (None, 32)               128       \n",
            " hNormalization)                                                 \n",
            "                                                                 \n",
            " dropout (Dropout)           (None, 32)                0         \n",
            "                                                                 \n",
            " dense_2 (Dense)             (None, 4)                 132       \n",
            "                                                                 \n",
            "=================================================================\n",
            "Total params: 14,857,572\n",
            "Trainable params: 14,300,644\n",
            "Non-trainable params: 556,928\n",
            "_________________________________________________________________\n"
          ]
        }
      ],
      "source": [
        "from keras.models import Model\n",
        "from keras.layers import Dense, GlobalAveragePooling2D, Dropout\n",
        "from keras.applications.vgg16 import VGG16, preprocess_input\n",
        "\n",
        "\n",
        "def create_model(input_size, dense_nodes, depth_freeze, learning_rate, reg_lr):\n",
        "\n",
        "  i = tf.keras.layers.Input([None, None, 3], dtype = tf.uint8)\n",
        "  x = tf.cast(i, tf.float32)\n",
        "  x = tf.keras.applications.vgg16.preprocess_input (x)\n",
        "  core = tf.keras.applications.VGG16()\n",
        "  x = core(x)\n",
        "  model = tf.keras.Model(inputs=[i], outputs=[x])\n",
        "\n",
        "  base_model = VGG16(weights='imagenet',\n",
        "                            include_top=False,\n",
        "                            input_shape = (input_size, input_size, 3))\n",
        "        \n",
        "  x = base_model.output\n",
        "  x = GlobalAveragePooling2D()(x)\n",
        "  x = BatchNormalization()(x)\n",
        "  # x= Flatten()(x) \n",
        "  # We add a fully-connected layer\n",
        "\n",
        "  x = Dense(dense_nodes, activation='elu',\n",
        "            kernel_initializer= keras.initializers.he_normal(),\n",
        "            kernel_regularizer=tf.keras.regularizers.l1(reg_lr))(x)\n",
        "            # kernel_initializer=initializers.VarianceScaling(scale=2.0)\n",
        "  x= BatchNormalization()(x)\n",
        " \n",
        "  x = Dense(\n",
        "            # 32,\n",
        "            np.sqrt(dense_nodes*4),\n",
        "            activation='elu',\n",
        "            kernel_initializer= keras.initializers.he_normal(),\n",
        "            kernel_regularizer=tf.keras.regularizers.l1(0.005)\n",
        "            # ,activity_regularizer=tf.keras.regularizers.l2(0.01)\n",
        "            )(x)\n",
        "  x= BatchNormalization()(x)\n",
        "  \n",
        "  x= layers.Dropout(drop_out)(x)\n",
        "  # and a logistic layer\n",
        "\n",
        "  predictions = Dense(4, \n",
        "                      activation='softmax',\n",
        "                      kernel_initializer= keras.initializers.he_normal())(x) \n",
        "                      # kernel_initializer=initializers.VarianceScaling(scale=2.0))(x)\n",
        "\n",
        "  model= Model(inputs=base_model.input, outputs=predictions)\n",
        "\n",
        "  for layer in model.layers[:depth_freeze]:\n",
        "    layer.trainable = False\n",
        "    # print(layer.name)\n",
        "  for layer in model.layers[depth_freeze:]:\n",
        "    # print(layer.name)\n",
        "    layer.trainable = True\n",
        "\n",
        "  for i , layer in enumerate(model.layers):\n",
        "    print(i , layer.name, \"-\", layer.trainable)\n",
        "\n",
        "  #Compilation of the model :\n",
        "  opt= tf.keras.optimizers.Adadelta(learning_rate)\n",
        "  # opt=Adadelta(lr=0.01, rho=0.95, epsilon=1e-08, decay=0.0)\n",
        "  model.compile(loss='categorical_crossentropy',\n",
        "                optimizer= opt,\n",
        "                metrics=['accuracy'\n",
        "                          # ,tf.keras.metrics.AUC(from_logits=True)\n",
        "                          ])\n",
        "  \n",
        "  model.summary()\n",
        "\n",
        "\n",
        "  return model\n",
        "\n",
        "model= create_model(input_size, dense_nodes, depth_freeze, learning_rate, reg_lr)"
      ]
    },
    {
      "cell_type": "code",
      "execution_count": null,
      "metadata": {
        "id": "DqWclPObRmFi"
      },
      "outputs": [],
      "source": [
        "checkpoint_path=f\"/drive/MyDrive/DL Codes/{architecture}_trial_{trial_number}.hdf5\"\n",
        "model.load_weights(checkpoint_path)\n",
        "new_model=model"
      ]
    },
    {
      "cell_type": "markdown",
      "metadata": {
        "id": "Knb-D7075lTB"
      },
      "source": [
        "# check point"
      ]
    },
    {
      "cell_type": "code",
      "execution_count": null,
      "metadata": {
        "id": "l6pMf49s2Uyh"
      },
      "outputs": [],
      "source": [
        "class myCallback(tf.keras.callbacks.Callback):\n",
        "  def on_epoch_end(self, epoch, logs={}):\n",
        "    if(logs.get('accuracy')>99.5):\n",
        "      print(\"\\nOverfitting limit has been exceeded\")\n",
        "      # print(\"\\nReached 90% accuracy so cancelling training!\")\n",
        "      self.model.stop_training = True\n",
        "\n",
        "def scheduler(epoch, learning_rate):\n",
        "  r= epoch%5\n",
        "  m= epoch//10\n",
        "  alpha= 0.2\n",
        "  return np.float32(learning_rate) * np.exp(-alpha*(m))\n",
        "\n",
        "\n",
        "callbacks = myCallback()\n",
        "my_scheduler = tf.keras.callbacks.LearningRateScheduler(scheduler)\n"
      ]
    },
    {
      "cell_type": "code",
      "execution_count": null,
      "metadata": {
        "colab": {
          "base_uri": "https://localhost:8080/"
        },
        "id": "GXgj7VeT7Ilp",
        "outputId": "e529cecd-afff-4a3c-9bbf-1bccc40eac89"
      },
      "outputs": [
        {
          "output_type": "stream",
          "name": "stderr",
          "text": [
            "WARNING:tensorflow:`period` argument is deprecated. Please use `save_freq` to specify the frequency in number of batches seen.\n"
          ]
        },
        {
          "output_type": "stream",
          "name": "stdout",
          "text": [
            "/drive/MyDrive/DL Codes/vgg16_trial_15_fold_5.hdf5\n"
          ]
        }
      ],
      "source": [
        "import os\n",
        "check_path='/drive/MyDrive/DL Codes/' + str(architecture)+'_trial_'+ trial_number +'_fold_' + fold_number +'.hdf5'\n",
        "print(check_path)\n",
        "# checkpoint_dir = os.path.dirname(check_path)\n",
        "\n",
        "save_period=1\n",
        "\n",
        "check = ModelCheckpoint(filepath= check_path,\n",
        "                            #  '/drive/MyDrive/DL Codes/modelweight.hdf5' ,\n",
        "                             monitor='accuracy',\n",
        "                             verbose=1,\n",
        "                             save_best_only=True,\n",
        "                             save_weights_only=True,\n",
        "                             mode='max',\n",
        "                             period =save_period)\n",
        "\n",
        "tensorboard= tf.keras.callbacks.TensorBoard(log_dir=\"./logs\",\n",
        "                                            histogram_freq=0,\n",
        "                                            write_graph=True,\n",
        "                                            write_images=False,\n",
        "                                            update_freq=\"epoch\",\n",
        "                                            profile_batch=0,\n",
        "                                            embeddings_freq=0,\n",
        "                                            embeddings_metadata=None)\n",
        "\n",
        "early = EarlyStopping(monitor='accuracy', min_delta=0,\n",
        "                      restore_best_weights=True,\n",
        "                      patience=10, verbose=2, mode='max')\n",
        "\n",
        "# model= create_model(input_size, dense_nodes, depth_freeze, learning_rate, reg_lr)\n"
      ]
    },
    {
      "cell_type": "code",
      "execution_count": null,
      "metadata": {
        "colab": {
          "base_uri": "https://localhost:8080/"
        },
        "id": "C3zZ9b65y7EW",
        "outputId": "16785bfc-5fd3-4d40-fd2a-998397f678d4"
      },
      "outputs": [
        {
          "output_type": "stream",
          "name": "stdout",
          "text": [
            "/drive/MyDrive/DL Codes/vgg16_trial_15_fold_5.hdf5\n"
          ]
        }
      ],
      "source": [
        "print(check_path)"
      ]
    },
    {
      "cell_type": "markdown",
      "metadata": {
        "id": "frWXv4j3W2z-"
      },
      "source": [
        "# Train execution"
      ]
    },
    {
      "cell_type": "code",
      "execution_count": null,
      "metadata": {
        "colab": {
          "base_uri": "https://localhost:8080/",
          "height": 1000
        },
        "id": "-SQagPmZJhO9",
        "outputId": "2368a763-5bd7-469e-cb42-bf49cce215e2"
      },
      "outputs": [
        {
          "output_type": "display_data",
          "data": {
            "text/plain": [
              "<IPython.core.display.Javascript object>"
            ],
            "application/javascript": [
              "\n",
              " function ClickConnect(){\n",
              "   btn = document.querySelector(\"colab-connect-button\")\n",
              "   if (btn != null){\n",
              "     console.log(\"Click colab-connect-button\"); \n",
              "     btn.click() \n",
              "     }\n",
              "   \n",
              "   btn = document.getElementById('ok')\n",
              "   if (btn != null){\n",
              "     console.log(\"Click reconnect\"); \n",
              "     btn.click() \n",
              "     }\n",
              "  }\n",
              "  \n",
              "setInterval(ClickConnect,60000)\n"
            ]
          },
          "metadata": {}
        },
        {
          "output_type": "stream",
          "name": "stdout",
          "text": [
            "Done.\n",
            "Epoch 1/25\n",
            "316/316 [==============================] - ETA: 0s - loss: 0.3579 - accuracy: 0.9850\n",
            "Epoch 1: accuracy improved from -inf to 0.98497, saving model to /drive/MyDrive/DL Codes/vgg16_trial_15_fold_5.hdf5\n",
            "316/316 [==============================] - 798s 2s/step - loss: 0.3579 - accuracy: 0.9850 - lr: 0.0800\n",
            "Epoch 2/25\n",
            "316/316 [==============================] - ETA: 0s - loss: 0.4006 - accuracy: 0.9893\n",
            "Epoch 2: accuracy improved from 0.98497 to 0.98932, saving model to /drive/MyDrive/DL Codes/vgg16_trial_15_fold_5.hdf5\n",
            "316/316 [==============================] - 288s 896ms/step - loss: 0.4006 - accuracy: 0.9893 - lr: 0.0800\n",
            "Epoch 3/25\n",
            "316/316 [==============================] - ETA: 0s - loss: 0.4474 - accuracy: 0.9912\n",
            "Epoch 3: accuracy improved from 0.98932 to 0.99125, saving model to /drive/MyDrive/DL Codes/vgg16_trial_15_fold_5.hdf5\n",
            "316/316 [==============================] - 290s 895ms/step - loss: 0.4474 - accuracy: 0.9912 - lr: 0.0800\n",
            "Epoch 4/25\n",
            "316/316 [==============================] - ETA: 0s - loss: 0.4885 - accuracy: 0.9915\n",
            "Epoch 4: accuracy improved from 0.99125 to 0.99150, saving model to /drive/MyDrive/DL Codes/vgg16_trial_15_fold_5.hdf5\n",
            "316/316 [==============================] - 290s 895ms/step - loss: 0.4885 - accuracy: 0.9915 - lr: 0.0800\n",
            "Epoch 5/25\n",
            "316/316 [==============================] - ETA: 0s - loss: 0.5239 - accuracy: 0.9921\n",
            "Epoch 5: accuracy improved from 0.99150 to 0.99214, saving model to /drive/MyDrive/DL Codes/vgg16_trial_15_fold_5.hdf5\n",
            "316/316 [==============================] - 290s 896ms/step - loss: 0.5239 - accuracy: 0.9921 - lr: 0.0800\n",
            "Epoch 6/25\n",
            "316/316 [==============================] - ETA: 0s - loss: 0.6065 - accuracy: 0.9878\n",
            "Epoch 6: accuracy did not improve from 0.99214\n",
            "316/316 [==============================] - 288s 891ms/step - loss: 0.6065 - accuracy: 0.9878 - lr: 0.0800\n",
            "Epoch 7/25\n",
            "316/316 [==============================] - ETA: 0s - loss: 0.5458 - accuracy: 0.9938\n",
            "Epoch 7: accuracy improved from 0.99214 to 0.99377, saving model to /drive/MyDrive/DL Codes/vgg16_trial_15_fold_5.hdf5\n",
            "316/316 [==============================] - 287s 894ms/step - loss: 0.5458 - accuracy: 0.9938 - lr: 0.0800\n",
            "Epoch 8/25\n",
            "316/316 [==============================] - ETA: 0s - loss: 0.5779 - accuracy: 0.9933\n",
            "Epoch 8: accuracy did not improve from 0.99377\n",
            "316/316 [==============================] - 288s 891ms/step - loss: 0.5779 - accuracy: 0.9933 - lr: 0.0800\n",
            "Epoch 9/25\n",
            "316/316 [==============================] - ETA: 0s - loss: 0.6122 - accuracy: 0.9942\n",
            "Epoch 9: accuracy improved from 0.99377 to 0.99417, saving model to /drive/MyDrive/DL Codes/vgg16_trial_15_fold_5.hdf5\n",
            "316/316 [==============================] - 288s 894ms/step - loss: 0.6122 - accuracy: 0.9942 - lr: 0.0800\n",
            "Epoch 10/25\n",
            "316/316 [==============================] - ETA: 0s - loss: 0.6416 - accuracy: 0.9944\n",
            "Epoch 10: accuracy improved from 0.99417 to 0.99436, saving model to /drive/MyDrive/DL Codes/vgg16_trial_15_fold_5.hdf5\n",
            "316/316 [==============================] - 288s 895ms/step - loss: 0.6416 - accuracy: 0.9944 - lr: 0.0800\n",
            "Epoch 11/25\n",
            "316/316 [==============================] - ETA: 0s - loss: 0.5505 - accuracy: 0.9971\n",
            "Epoch 11: accuracy improved from 0.99436 to 0.99713, saving model to /drive/MyDrive/DL Codes/vgg16_trial_15_fold_5.hdf5\n",
            "316/316 [==============================] - 289s 895ms/step - loss: 0.5505 - accuracy: 0.9971 - lr: 0.0655\n",
            "Epoch 12/25\n",
            "316/316 [==============================] - ETA: 0s - loss: 0.4751 - accuracy: 0.9971\n",
            "Epoch 12: accuracy did not improve from 0.99713\n",
            "316/316 [==============================] - 287s 891ms/step - loss: 0.4751 - accuracy: 0.9971 - lr: 0.0536\n",
            "Epoch 13/25\n",
            "316/316 [==============================] - ETA: 0s - loss: 0.4047 - accuracy: 0.9986\n",
            "Epoch 13: accuracy improved from 0.99713 to 0.99862, saving model to /drive/MyDrive/DL Codes/vgg16_trial_15_fold_5.hdf5\n",
            "316/316 [==============================] - 289s 894ms/step - loss: 0.4047 - accuracy: 0.9986 - lr: 0.0439\n",
            "Epoch 14/25\n",
            "316/316 [==============================] - ETA: 0s - loss: 0.3476 - accuracy: 0.9984\n",
            "Epoch 14: accuracy did not improve from 0.99862\n",
            "316/316 [==============================] - 288s 891ms/step - loss: 0.3476 - accuracy: 0.9984 - lr: 0.0359\n",
            "Epoch 15/25\n",
            "316/316 [==============================] - ETA: 0s - loss: 0.2962 - accuracy: 0.9988\n",
            "Epoch 15: accuracy improved from 0.99862 to 0.99881, saving model to /drive/MyDrive/DL Codes/vgg16_trial_15_fold_5.hdf5\n",
            "316/316 [==============================] - 288s 896ms/step - loss: 0.2962 - accuracy: 0.9988 - lr: 0.0294\n",
            "Epoch 16/25\n",
            "316/316 [==============================] - ETA: 0s - loss: 0.2528 - accuracy: 0.9991\n",
            "Epoch 16: accuracy improved from 0.99881 to 0.99911, saving model to /drive/MyDrive/DL Codes/vgg16_trial_15_fold_5.hdf5\n",
            "316/316 [==============================] - 289s 895ms/step - loss: 0.2528 - accuracy: 0.9991 - lr: 0.0241\n",
            "Epoch 17/25\n",
            "316/316 [==============================] - ETA: 0s - loss: 0.2159 - accuracy: 0.9991\n",
            "Epoch 17: accuracy did not improve from 0.99911\n",
            "316/316 [==============================] - 288s 892ms/step - loss: 0.2159 - accuracy: 0.9991 - lr: 0.0197\n",
            "Epoch 18/25\n",
            "316/316 [==============================] - ETA: 0s - loss: 0.1848 - accuracy: 0.9991\n",
            "Epoch 18: accuracy did not improve from 0.99911\n",
            "316/316 [==============================] - 289s 891ms/step - loss: 0.1848 - accuracy: 0.9991 - lr: 0.0162\n",
            "Epoch 19/25\n",
            "316/316 [==============================] - ETA: 0s - loss: 0.1571 - accuracy: 0.9995\n",
            "Epoch 19: accuracy improved from 0.99911 to 0.99946, saving model to /drive/MyDrive/DL Codes/vgg16_trial_15_fold_5.hdf5\n",
            "316/316 [==============================] - 290s 895ms/step - loss: 0.1571 - accuracy: 0.9995 - lr: 0.0132\n",
            "Epoch 20/25\n",
            "316/316 [==============================] - ETA: 0s - loss: 0.1351 - accuracy: 0.9995\n",
            "Epoch 20: accuracy improved from 0.99946 to 0.99951, saving model to /drive/MyDrive/DL Codes/vgg16_trial_15_fold_5.hdf5\n",
            "316/316 [==============================] - 288s 895ms/step - loss: 0.1351 - accuracy: 0.9995 - lr: 0.0108\n",
            "Epoch 21/25\n",
            "316/316 [==============================] - ETA: 0s - loss: 0.0982 - accuracy: 0.9997\n",
            "Epoch 21: accuracy improved from 0.99951 to 0.99965, saving model to /drive/MyDrive/DL Codes/vgg16_trial_15_fold_5.hdf5\n",
            "316/316 [==============================] - 290s 898ms/step - loss: 0.0982 - accuracy: 0.9997 - lr: 0.0073\n",
            "Epoch 22/25\n",
            "316/316 [==============================] - ETA: 0s - loss: 0.0728 - accuracy: 0.9996\n",
            "Epoch 22: accuracy did not improve from 0.99965\n",
            "316/316 [==============================] - 287s 892ms/step - loss: 0.0728 - accuracy: 0.9996 - lr: 0.0049\n",
            "Epoch 23/25\n",
            "316/316 [==============================] - ETA: 0s - loss: 0.0556 - accuracy: 0.9996\n",
            "Epoch 23: accuracy did not improve from 0.99965\n",
            "316/316 [==============================] - 289s 891ms/step - loss: 0.0556 - accuracy: 0.9996 - lr: 0.0033\n",
            "Epoch 24/25\n",
            "316/316 [==============================] - ETA: 0s - loss: 0.0438 - accuracy: 0.9996\n",
            "Epoch 24: accuracy did not improve from 0.99965\n",
            "316/316 [==============================] - 288s 890ms/step - loss: 0.0438 - accuracy: 0.9996 - lr: 0.0022\n",
            "Epoch 25/25\n",
            "316/316 [==============================] - ETA: 0s - loss: 0.0361 - accuracy: 0.9994\n",
            "Epoch 25: accuracy did not improve from 0.99965\n",
            "316/316 [==============================] - 289s 892ms/step - loss: 0.0361 - accuracy: 0.9994 - lr: 0.0015\n"
          ]
        }
      ],
      "source": [
        "import IPython\n",
        "from google.colab import output\n",
        "\n",
        "display(IPython.display.Javascript('''\n",
        " function ClickConnect(){\n",
        "   btn = document.querySelector(\"colab-connect-button\")\n",
        "   if (btn != null){\n",
        "     console.log(\"Click colab-connect-button\"); \n",
        "     btn.click() \n",
        "     }\n",
        "   \n",
        "   btn = document.getElementById('ok')\n",
        "   if (btn != null){\n",
        "     console.log(\"Click reconnect\"); \n",
        "     btn.click() \n",
        "     }\n",
        "  }\n",
        "  \n",
        "setInterval(ClickConnect,60000)\n",
        "'''))\n",
        "\n",
        "print(\"Done.\") \n",
        "\n",
        "epochs= 25\n",
        "# Training : (Use Keras 2.0)\n",
        "history = new_model.fit(\n",
        "                        train_generator,\n",
        "                        steps_per_epoch = np.ceil(len_train/batch_size),\n",
        "                        epochs = epochs,\n",
        "                        # test_data = test_generator,\n",
        "                        # test_steps = np.ceil(len_test/batch_size),\n",
        "                        # use_multiprocessing= True,\n",
        "                        workers=8,\n",
        "                        callbacks = [check, early, my_scheduler, callbacks]\n",
        "                        )"
      ]
    },
    {
      "cell_type": "markdown",
      "metadata": {
        "id": "NR8_l0lGddS_"
      },
      "source": [
        "## Plot loss and accuracy"
      ]
    },
    {
      "cell_type": "code",
      "execution_count": null,
      "metadata": {
        "id": "qMbugaSzdaC5"
      },
      "outputs": [],
      "source": [
        "# plt.plot(history.history['accuracy'], color='green')\n",
        "# plt.plot(history.history['val_accuracy'], color='red')\n",
        "# plt.title(str(architecture)+'_model accuracy')\n",
        "# plt.ylabel('accuracy')\n",
        "# plt.xlabel('epoch')\n",
        "# plt.legend(['train', 'validation'], loc='lower right')\n",
        "# plt.grid('')\n",
        "# plt.show()\n",
        "# # summarize history for loss\n",
        "# plt.plot(history.history['loss'],color='green')\n",
        "# plt.plot(history.history['val_loss'], color='red')\n",
        "# plt.title(str(architecture)+ '_model loss')\n",
        "# plt.ylabel('loss')\n",
        "# plt.xlabel('epoch')\n",
        "# plt.legend(['train', 'test'], loc='upper right')\n",
        "# plt.grid('')\n",
        "# plt.show()"
      ]
    },
    {
      "cell_type": "code",
      "execution_count": null,
      "metadata": {
        "colab": {
          "base_uri": "https://localhost:8080/"
        },
        "id": "dpUhFuaQdlbB",
        "outputId": "909035d9-13ef-44c5-f3fb-75fb84f09870"
      },
      "outputs": [
        {
          "name": "stdout",
          "output_type": "stream",
          "text": [
            "/drive/MyDrive/DL Codes/densenet201_trial_15.hdf5\n"
          ]
        }
      ],
      "source": [
        "check_path= input ('check_path: ')"
      ]
    },
    {
      "cell_type": "code",
      "execution_count": null,
      "metadata": {
        "id": "mudcCOz_dl9h",
        "colab": {
          "base_uri": "https://localhost:8080/"
        },
        "outputId": "04197fb1-6125-4f77-80b5-151c97cf3c27"
      },
      "outputs": [
        {
          "output_type": "stream",
          "name": "stdout",
          "text": [
            "/drive/MyDrive/DL Codes/vgg16_trial_15_fold_5.hdf5\n",
            "Found 336 images belonging to 4 classes.\n"
          ]
        }
      ],
      "source": [
        "check_path= '/drive/MyDrive/DL Codes/vgg16_trial_15_fold_5.hdf5'\n",
        "print(check_path)\n",
        "model.load_weights(check_path)\n",
        "new_model=model\n",
        "\n",
        "test_generator = test_datagen.flow_from_directory(test_dir,\n",
        "                                                  target_size=(input_size, input_size),\n",
        "                                                  batch_size=batch_size,\n",
        "                                                  shuffle= False,\n",
        "                                                  class_mode='categorical')\n",
        "test_generator.reset()"
      ]
    },
    {
      "cell_type": "code",
      "source": [
        "import time\n",
        "s= time.process_time() \n",
        "new_model.evaluate(test_generator,workers=8,\n",
        "                   steps = np.ceil(len_test/(batch_size)))\n",
        "e= time.process_time() \n",
        "print(e-s)"
      ],
      "metadata": {
        "colab": {
          "base_uri": "https://localhost:8080/"
        },
        "id": "rTV5AHMaYMaQ",
        "outputId": "219b653e-b1eb-4d41-cf5e-768bf87d2088"
      },
      "execution_count": null,
      "outputs": [
        {
          "output_type": "stream",
          "name": "stdout",
          "text": [
            "6/6 [==============================] - 3s 366ms/step - loss: 0.2844 - accuracy: 0.9405\n",
            "3.9117779639999952\n"
          ]
        }
      ]
    },
    {
      "cell_type": "markdown",
      "metadata": {
        "id": "TgzK9mlx80f9"
      },
      "source": [
        "# call the saved and trained model"
      ]
    },
    {
      "cell_type": "code",
      "execution_count": null,
      "metadata": {
        "id": "suPdywGj8_wO"
      },
      "outputs": [],
      "source": [
        "input ('check_path: ')"
      ]
    },
    {
      "cell_type": "code",
      "execution_count": null,
      "metadata": {
        "colab": {
          "base_uri": "https://localhost:8080/"
        },
        "id": "UNUlMdMj8yVH",
        "outputId": "a1907016-c04f-4971-eabd-7f32f8af13a0"
      },
      "outputs": [
        {
          "output_type": "stream",
          "name": "stdout",
          "text": [
            "/drive/MyDrive/DL Codes/vgg16_trial_15_fold_4.hdf5\n",
            "Found 336 images belonging to 4 classes.\n",
            "6/6 [==============================] - 61s 12s/step - loss: 0.3011 - accuracy: 0.9732\n"
          ]
        },
        {
          "output_type": "execute_result",
          "data": {
            "text/plain": [
              "[0.30114665627479553, 0.9732142686843872]"
            ]
          },
          "metadata": {},
          "execution_count": 18
        }
      ],
      "source": [
        "# check_path= '/drive/MyDrive/DL Codes/vgg16_trial_15_fold_2.hdf5'\n",
        "print(check_path)\n",
        "model.load_weights(check_path)\n",
        "new_model=model\n",
        "\n",
        "test_generator = test_datagen.flow_from_directory(test_dir,\n",
        "                                                  target_size=(input_size, input_size),\n",
        "                                                  batch_size=batch_size,\n",
        "                                                  shuffle= False,\n",
        "                                                  class_mode='categorical')\n",
        "test_generator.reset()\n",
        "new_model.evaluate(test_generator,workers=8,\n",
        "                   steps = np.ceil(len_test/(batch_size)))"
      ]
    },
    {
      "cell_type": "markdown",
      "metadata": {
        "id": "inXf_LW69D5N"
      },
      "source": [
        "## confusion matrix"
      ]
    },
    {
      "cell_type": "code",
      "execution_count": null,
      "metadata": {
        "colab": {
          "base_uri": "https://localhost:8080/"
        },
        "id": "SYCHegqE9LBC",
        "outputId": "9911cb91-c993-42f5-d272-59d32835d7e3"
      },
      "outputs": [
        {
          "output_type": "stream",
          "name": "stderr",
          "text": [
            "<ipython-input-18-c6fe8fd00561>:1: UserWarning: `Model.predict_generator` is deprecated and will be removed in a future version. Please use `Model.predict`, which supports generators.\n",
            "  y_pred= new_model.predict_generator(test_generator,\n"
          ]
        },
        {
          "output_type": "stream",
          "name": "stdout",
          "text": [
            "y_pred_0: [[9.9738449e-01 3.2938508e-04 7.6116567e-06 2.2785743e-03]\n",
            " [9.9764782e-01 3.6787172e-04 4.7525486e-06 1.9795555e-03]\n",
            " [9.9862731e-01 5.0236564e-04 6.3400703e-06 8.6399709e-04]\n",
            " ...\n",
            " [9.3454437e-06 1.7357384e-05 4.4528029e-08 9.9997330e-01]\n",
            " [8.6223670e-05 1.6885471e-05 2.0378879e-05 9.9987650e-01]\n",
            " [5.6579393e-05 1.6294500e-03 2.0137413e-06 9.9831200e-01]]\n",
            "y_pred:   [0 0 0 0 0 0 0 0 0 0 0 0 0 0 0 0 0 0 0 0 0 0 0 0 0 0 0 0 0 0 0 0 0 0 0 0 0\n",
            " 0 0 0 0 0 0 0 3 0 0 0 0 0 0 0 0 0 0 3 0 0 0 3 3 0 3 0 0 3 0 0 0 0 0 0 0 0\n",
            " 0 0 0 0 0 0 0 0 0 0 1 1 1 1 1 1 1 1 1 1 1 1 1 1 1 1 3 1 1 1 1 1 1 1 1 1 1\n",
            " 1 1 1 1 1 1 1 1 1 1 1 1 1 1 1 1 1 1 1 1 1 1 1 1 1 1 1 1 1 1 1 1 1 1 1 1 1\n",
            " 1 1 1 1 1 1 1 1 1 1 1 1 1 1 1 1 1 1 1 1 2 2 2 2 2 2 1 2 2 2 2 2 2 1 2 2 2\n",
            " 2 2 2 2 2 2 2 2 2 2 2 2 2 2 2 2 2 2 2 2 2 2 2 2 2 2 2 2 2 2 2 2 2 2 2 2 2\n",
            " 2 2 2 2 2 2 2 2 2 2 2 2 2 2 2 2 2 2 2 2 2 2 2 2 2 2 2 2 2 2 3 3 3 3 3 3 3\n",
            " 3 3 3 3 3 3 3 3 3 3 3 3 3 3 3 3 3 3 3 3 3 3 3 3 3 3 3 3 3 3 3 3 3 3 3 3 3\n",
            " 3 3 3 3 3 3 3 3 3 3 3 3 3 3 3 3 3 3 3 3 3 3 3 3 3 3 3 3 3 3 3 3 3 3 3 3 3\n",
            " 3 3 3]\n"
          ]
        },
        {
          "output_type": "stream",
          "name": "stderr",
          "text": [
            "<ipython-input-18-c6fe8fd00561>:9: UserWarning: `Model.predict_generator` is deprecated and will be removed in a future version. Please use `Model.predict`, which supports generators.\n",
            "  print(new_model.predict_generator(test_generator, steps = np.ceil(len_test/(batch_size))))\n"
          ]
        },
        {
          "output_type": "stream",
          "name": "stdout",
          "text": [
            "[[9.9738449e-01 3.2938508e-04 7.6116567e-06 2.2785743e-03]\n",
            " [9.9764782e-01 3.6787172e-04 4.7525486e-06 1.9795555e-03]\n",
            " [9.9862731e-01 5.0236564e-04 6.3400703e-06 8.6399709e-04]\n",
            " ...\n",
            " [9.3454437e-06 1.7357384e-05 4.4528029e-08 9.9997330e-01]\n",
            " [8.6223670e-05 1.6885471e-05 2.0378879e-05 9.9987650e-01]\n",
            " [5.6579393e-05 1.6294500e-03 2.0137413e-06 9.9831200e-01]]\n",
            "y_true is:  [0 0 0 0 0 0 0 0 0 0 0 0 0 0 0 0 0 0 0 0 0 0 0 0 0 0 0 0 0 0 0 0 0 0 0 0 0\n",
            " 0 0 0 0 0 0 0 0 0 0 0 0 0 0 0 0 0 0 0 0 0 0 0 0 0 0 0 0 0 0 0 0 0 0 0 0 0\n",
            " 0 0 0 0 0 0 0 0 0 0 1 1 1 1 1 1 1 1 1 1 1 1 1 1 1 1 1 1 1 1 1 1 1 1 1 1 1\n",
            " 1 1 1 1 1 1 1 1 1 1 1 1 1 1 1 1 1 1 1 1 1 1 1 1 1 1 1 1 1 1 1 1 1 1 1 1 1\n",
            " 1 1 1 1 1 1 1 1 1 1 1 1 1 1 1 1 1 1 1 1 2 2 2 2 2 2 2 2 2 2 2 2 2 2 2 2 2\n",
            " 2 2 2 2 2 2 2 2 2 2 2 2 2 2 2 2 2 2 2 2 2 2 2 2 2 2 2 2 2 2 2 2 2 2 2 2 2\n",
            " 2 2 2 2 2 2 2 2 2 2 2 2 2 2 2 2 2 2 2 2 2 2 2 2 2 2 2 2 2 2 3 3 3 3 3 3 3\n",
            " 3 3 3 3 3 3 3 3 3 3 3 3 3 3 3 3 3 3 3 3 3 3 3 3 3 3 3 3 3 3 3 3 3 3 3 3 3\n",
            " 3 3 3 3 3 3 3 3 3 3 3 3 3 3 3 3 3 3 3 3 3 3 3 3 3 3 3 3 3 3 3 3 3 3 3 3 3\n",
            " 3 3 3]\n",
            "['loss', 'accuracy']\n",
            "336\n",
            "accuracy: 0.9732142857142857\n",
            "(20160,)\n",
            "[0 0 0 ... 3 3 3]\n"
          ]
        }
      ],
      "source": [
        "y_pred= new_model.predict_generator(test_generator,\n",
        "                                    # shuffle=False,\n",
        "                                    # pickle_safe=True,\n",
        "                                    steps = np.ceil(len_test/(batch_size)))\n",
        "print('y_pred_0:', y_pred)\n",
        "y_pred=np.argmax(y_pred, axis=1);\n",
        "print(\"y_pred:  \", y_pred)\n",
        "# print(len(y_pred))\n",
        "print(new_model.predict_generator(test_generator, steps = np.ceil(len_test/(batch_size))))\n",
        "# Y=test_generator.class_mode()\n",
        "y_true=test_generator.labels\n",
        "print('y_true is: ',y_true)\n",
        "print(new_model.metrics_names)\n",
        "print(len(y_true))\n",
        "sum=0\n",
        "for i in range(len(y_pred)):\n",
        "  if y_pred[i]==y_true[i]:\n",
        "    sum +=1\n",
        "\n",
        "print(\"accuracy:\", sum/len(y_pred))\n",
        "\n",
        "train_label= train_generator.classes\n",
        "print(train_label.shape)\n",
        "print(train_generator.classes)"
      ]
    },
    {
      "cell_type": "code",
      "execution_count": null,
      "metadata": {
        "colab": {
          "base_uri": "https://localhost:8080/",
          "height": 424
        },
        "id": "07V1PByJ9UgA",
        "outputId": "704a2fa7-7092-4e54-c44c-fba2bcc11938"
      },
      "outputs": [
        {
          "output_type": "execute_result",
          "data": {
            "text/plain": [
              "     y_true  y_pred\n",
              "0         0       0\n",
              "1         0       0\n",
              "2         0       0\n",
              "3         0       0\n",
              "4         0       0\n",
              "..      ...     ...\n",
              "331       3       3\n",
              "332       3       3\n",
              "333       3       3\n",
              "334       3       3\n",
              "335       3       3\n",
              "\n",
              "[336 rows x 2 columns]"
            ],
            "text/html": [
              "\n",
              "  <div id=\"df-f9342b33-dc0c-494a-b97f-68410404faca\">\n",
              "    <div class=\"colab-df-container\">\n",
              "      <div>\n",
              "<style scoped>\n",
              "    .dataframe tbody tr th:only-of-type {\n",
              "        vertical-align: middle;\n",
              "    }\n",
              "\n",
              "    .dataframe tbody tr th {\n",
              "        vertical-align: top;\n",
              "    }\n",
              "\n",
              "    .dataframe thead th {\n",
              "        text-align: right;\n",
              "    }\n",
              "</style>\n",
              "<table border=\"1\" class=\"dataframe\">\n",
              "  <thead>\n",
              "    <tr style=\"text-align: right;\">\n",
              "      <th></th>\n",
              "      <th>y_true</th>\n",
              "      <th>y_pred</th>\n",
              "    </tr>\n",
              "  </thead>\n",
              "  <tbody>\n",
              "    <tr>\n",
              "      <th>0</th>\n",
              "      <td>0</td>\n",
              "      <td>0</td>\n",
              "    </tr>\n",
              "    <tr>\n",
              "      <th>1</th>\n",
              "      <td>0</td>\n",
              "      <td>0</td>\n",
              "    </tr>\n",
              "    <tr>\n",
              "      <th>2</th>\n",
              "      <td>0</td>\n",
              "      <td>0</td>\n",
              "    </tr>\n",
              "    <tr>\n",
              "      <th>3</th>\n",
              "      <td>0</td>\n",
              "      <td>0</td>\n",
              "    </tr>\n",
              "    <tr>\n",
              "      <th>4</th>\n",
              "      <td>0</td>\n",
              "      <td>0</td>\n",
              "    </tr>\n",
              "    <tr>\n",
              "      <th>...</th>\n",
              "      <td>...</td>\n",
              "      <td>...</td>\n",
              "    </tr>\n",
              "    <tr>\n",
              "      <th>331</th>\n",
              "      <td>3</td>\n",
              "      <td>3</td>\n",
              "    </tr>\n",
              "    <tr>\n",
              "      <th>332</th>\n",
              "      <td>3</td>\n",
              "      <td>3</td>\n",
              "    </tr>\n",
              "    <tr>\n",
              "      <th>333</th>\n",
              "      <td>3</td>\n",
              "      <td>3</td>\n",
              "    </tr>\n",
              "    <tr>\n",
              "      <th>334</th>\n",
              "      <td>3</td>\n",
              "      <td>3</td>\n",
              "    </tr>\n",
              "    <tr>\n",
              "      <th>335</th>\n",
              "      <td>3</td>\n",
              "      <td>3</td>\n",
              "    </tr>\n",
              "  </tbody>\n",
              "</table>\n",
              "<p>336 rows × 2 columns</p>\n",
              "</div>\n",
              "      <button class=\"colab-df-convert\" onclick=\"convertToInteractive('df-f9342b33-dc0c-494a-b97f-68410404faca')\"\n",
              "              title=\"Convert this dataframe to an interactive table.\"\n",
              "              style=\"display:none;\">\n",
              "        \n",
              "  <svg xmlns=\"http://www.w3.org/2000/svg\" height=\"24px\"viewBox=\"0 0 24 24\"\n",
              "       width=\"24px\">\n",
              "    <path d=\"M0 0h24v24H0V0z\" fill=\"none\"/>\n",
              "    <path d=\"M18.56 5.44l.94 2.06.94-2.06 2.06-.94-2.06-.94-.94-2.06-.94 2.06-2.06.94zm-11 1L8.5 8.5l.94-2.06 2.06-.94-2.06-.94L8.5 2.5l-.94 2.06-2.06.94zm10 10l.94 2.06.94-2.06 2.06-.94-2.06-.94-.94-2.06-.94 2.06-2.06.94z\"/><path d=\"M17.41 7.96l-1.37-1.37c-.4-.4-.92-.59-1.43-.59-.52 0-1.04.2-1.43.59L10.3 9.45l-7.72 7.72c-.78.78-.78 2.05 0 2.83L4 21.41c.39.39.9.59 1.41.59.51 0 1.02-.2 1.41-.59l7.78-7.78 2.81-2.81c.8-.78.8-2.07 0-2.86zM5.41 20L4 18.59l7.72-7.72 1.47 1.35L5.41 20z\"/>\n",
              "  </svg>\n",
              "      </button>\n",
              "      \n",
              "  <style>\n",
              "    .colab-df-container {\n",
              "      display:flex;\n",
              "      flex-wrap:wrap;\n",
              "      gap: 12px;\n",
              "    }\n",
              "\n",
              "    .colab-df-convert {\n",
              "      background-color: #E8F0FE;\n",
              "      border: none;\n",
              "      border-radius: 50%;\n",
              "      cursor: pointer;\n",
              "      display: none;\n",
              "      fill: #1967D2;\n",
              "      height: 32px;\n",
              "      padding: 0 0 0 0;\n",
              "      width: 32px;\n",
              "    }\n",
              "\n",
              "    .colab-df-convert:hover {\n",
              "      background-color: #E2EBFA;\n",
              "      box-shadow: 0px 1px 2px rgba(60, 64, 67, 0.3), 0px 1px 3px 1px rgba(60, 64, 67, 0.15);\n",
              "      fill: #174EA6;\n",
              "    }\n",
              "\n",
              "    [theme=dark] .colab-df-convert {\n",
              "      background-color: #3B4455;\n",
              "      fill: #D2E3FC;\n",
              "    }\n",
              "\n",
              "    [theme=dark] .colab-df-convert:hover {\n",
              "      background-color: #434B5C;\n",
              "      box-shadow: 0px 1px 3px 1px rgba(0, 0, 0, 0.15);\n",
              "      filter: drop-shadow(0px 1px 2px rgba(0, 0, 0, 0.3));\n",
              "      fill: #FFFFFF;\n",
              "    }\n",
              "  </style>\n",
              "\n",
              "      <script>\n",
              "        const buttonEl =\n",
              "          document.querySelector('#df-f9342b33-dc0c-494a-b97f-68410404faca button.colab-df-convert');\n",
              "        buttonEl.style.display =\n",
              "          google.colab.kernel.accessAllowed ? 'block' : 'none';\n",
              "\n",
              "        async function convertToInteractive(key) {\n",
              "          const element = document.querySelector('#df-f9342b33-dc0c-494a-b97f-68410404faca');\n",
              "          const dataTable =\n",
              "            await google.colab.kernel.invokeFunction('convertToInteractive',\n",
              "                                                     [key], {});\n",
              "          if (!dataTable) return;\n",
              "\n",
              "          const docLinkHtml = 'Like what you see? Visit the ' +\n",
              "            '<a target=\"_blank\" href=https://colab.research.google.com/notebooks/data_table.ipynb>data table notebook</a>'\n",
              "            + ' to learn more about interactive tables.';\n",
              "          element.innerHTML = '';\n",
              "          dataTable['output_type'] = 'display_data';\n",
              "          await google.colab.output.renderOutput(dataTable, element);\n",
              "          const docLink = document.createElement('div');\n",
              "          docLink.innerHTML = docLinkHtml;\n",
              "          element.appendChild(docLink);\n",
              "        }\n",
              "      </script>\n",
              "    </div>\n",
              "  </div>\n",
              "  "
            ]
          },
          "metadata": {},
          "execution_count": 19
        }
      ],
      "source": [
        "import pandas as pd\n",
        "import seaborn as sn\n",
        "\n",
        "data= pd.DataFrame({'y_true':y_true,\n",
        "                    'y_pred':y_pred})\n",
        "\n",
        "data"
      ]
    },
    {
      "cell_type": "code",
      "execution_count": null,
      "metadata": {
        "colab": {
          "base_uri": "https://localhost:8080/",
          "height": 383
        },
        "id": "5Kem8GBc9cou",
        "outputId": "ac76bdf3-66fe-4f37-f92b-eb49a26f7edd"
      },
      "outputs": [
        {
          "output_type": "stream",
          "name": "stdout",
          "text": [
            "Predicted   0   1   2   3\n",
            "Actual                   \n",
            "0          78   0   0   6\n",
            "1           0  83   0   1\n",
            "2           0   2  82   0\n",
            "3           0   0   0  84\n"
          ]
        },
        {
          "output_type": "display_data",
          "data": {
            "text/plain": [
              "<Figure size 432x288 with 2 Axes>"
            ],
            "image/png": "[encoded data removed]"
          },
          "metadata": {
            "needs_background": "light"
          }
        }
      ],
      "source": [
        "import pandas as pd\n",
        "import seaborn as sn\n",
        "\n",
        "data= pd.DataFrame({'y_true':y_true,\n",
        "                    'y_pred':y_pred})\n",
        "data[data['y_true']!=data['y_pred']]\n",
        "# DF= pd.DataFrame({'0':'Angioectasia',str(1):'Inflamatory',str(2):'Normal', str(3):'Vascular lesion'})\n",
        "\n",
        "confusion_matrix = pd.crosstab(data['y_true'], data['y_pred'],\n",
        "                               rownames=['Actual'], colnames=['Predicted'])\n",
        "print (confusion_matrix)\n",
        "\n",
        "sn.heatmap(confusion_matrix, annot=True, fmt='d',linewidths=.5, cmap=\"YlGnBu\")\n",
        "plt.show()"
      ]
    },
    {
      "cell_type": "code",
      "execution_count": null,
      "metadata": {
        "colab": {
          "base_uri": "https://localhost:8080/",
          "height": 279
        },
        "id": "4OTfwI1S9e9-",
        "outputId": "8a0b48d3-fed0-4aef-b7c9-e89d5c2dbb93"
      },
      "outputs": [
        {
          "output_type": "display_data",
          "data": {
            "text/plain": [
              "<Figure size 432x288 with 2 Axes>"
            ],
            "image/png": "[encoded data removed]"
          },
          "metadata": {
            "needs_background": "light"
          }
        }
      ],
      "source": [
        "import pandas as pd\n",
        "import seaborn as sn\n",
        "\n",
        "data= pd.DataFrame({'y_true':y_true,\n",
        "                    'y_pred':y_pred})\n",
        "\n",
        "confusion_matrix = pd.crosstab(data['y_true'], data['y_pred'], rownames=['Actual'], colnames=['Predicted'])\n",
        "confusion_matrix.rename(columns={0: 'Angioectasia', 1: 'Inflamatory', 2:'Normal', 3: 'Angiodysplasia'}, inplace=True)\n",
        "confusion_matrix.rename(index={0: 'Angioectasia', 1: 'Inflamatory', 2:'Normal', 3: 'Angiodysplasia'}, inplace=True)\n",
        "\n",
        "confusion_matrix\n",
        "sn.color_palette(\"tab10\")\n",
        "sn.heatmap(confusion_matrix, annot=True, fmt='d',linewidths=.5, cmap='icefire')\n",
        "plt.show()"
      ]
    },
    {
      "cell_type": "code",
      "execution_count": null,
      "metadata": {
        "colab": {
          "base_uri": "https://localhost:8080/"
        },
        "id": "gZVrr7jC9twO",
        "outputId": "d64cf12b-b8c8-42d8-c636-96e957f7509b"
      },
      "outputs": [
        {
          "output_type": "stream",
          "name": "stdout",
          "text": [
            "dict_keys(['Angiectasia', 'Inflammatory', 'Normal', 'Vascular_lesion'])\n",
            "dict_keys(['Angiectasia', 'Inflammatory', 'Normal', 'Vascular_lesion'])\n"
          ]
        }
      ],
      "source": [
        "print(test_generator.class_indices.keys())\n",
        "print(train_generator.class_indices.keys())"
      ]
    },
    {
      "cell_type": "code",
      "execution_count": null,
      "metadata": {
        "colab": {
          "base_uri": "https://localhost:8080/"
        },
        "id": "kMXuL28g9qEu",
        "outputId": "03a57887-d833-4d22-be45-6495dd57b09d"
      },
      "outputs": [
        {
          "output_type": "stream",
          "name": "stdout",
          "text": [
            "Confusion Matrix\n",
            "[[78  0  0  6]\n",
            " [ 0 83  0  1]\n",
            " [ 0  2 82  0]\n",
            " [ 0  0  0 84]]\n",
            "Classification Report\n",
            "                 precision    recall  f1-score   support\n",
            "\n",
            "    Angiectasia       1.00      0.93      0.96        84\n",
            "   Inflammatory       0.98      0.99      0.98        84\n",
            "         Normal       1.00      0.98      0.99        84\n",
            "Vascular_lesion       0.92      1.00      0.96        84\n",
            "\n",
            "       accuracy                           0.97       336\n",
            "      macro avg       0.97      0.97      0.97       336\n",
            "   weighted avg       0.97      0.97      0.97       336\n",
            "\n",
            "[[78  0  0  6]\n",
            " [ 0 83  0  1]\n",
            " [ 0  2 82  0]\n",
            " [ 0  0  0 84]]\n"
          ]
        }
      ],
      "source": [
        "from sklearn.metrics import classification_report, confusion_matrix\n",
        "from keras import metrics\n",
        "import matplotlib.pyplot as plt\n",
        "from yellowbrick.classifier import ConfusionMatrix\n",
        "\n",
        "## Confution Matrix and Classification Report\n",
        "from sklearn.metrics import classification_report, confusion_matrix\n",
        "from keras import metrics\n",
        "# Y_pred = model.predict_generator(validation_generator, num_of_test_samples // batch_size+1)\n",
        "# y_pred = np.argmax(Y_pred, axis=1)\n",
        "print('Confusion Matrix')\n",
        "print(confusion_matrix(test_generator.classes, y_pred))\n",
        "print('Classification Report')\n",
        "target_names = list(test_generator.class_indices.keys()) #['vascular lesions', 'normal', 'inflamatory', 'angiectasia']\n",
        "print(classification_report(test_generator.classes, y_pred, target_names=target_names))\n",
        "results = confusion_matrix(y_true, y_pred)\n",
        "\n",
        "print(results)\n",
        "# cm=confusion_matrix(y_test.argmax(axis=1), y_pred.argmax(axis=1))"
      ]
    },
    {
      "cell_type": "markdown",
      "metadata": {
        "id": "iRsatOaC-OOl"
      },
      "source": [
        "## call the saved weights"
      ]
    },
    {
      "cell_type": "code",
      "execution_count": null,
      "metadata": {
        "id": "S7hBfhto-Lt1"
      },
      "outputs": [],
      "source": [
        "# checkpoint_path= '/drive/MyDrive/DL Codes/exception_trial_1.hdf5'\n",
        "model.load_weights(checkpoint_path)\n",
        "new_model=model"
      ]
    },
    {
      "cell_type": "markdown",
      "metadata": {
        "id": "1uD5_04Kz4yu"
      },
      "source": [
        "# other pathogies"
      ]
    },
    {
      "cell_type": "markdown",
      "metadata": {
        "id": "biCKm2GIi1yX"
      },
      "source": [
        "## ulcer"
      ]
    },
    {
      "cell_type": "code",
      "execution_count": null,
      "metadata": {
        "colab": {
          "base_uri": "https://localhost:8080/"
        },
        "id": "7pprUw97819B",
        "outputId": "36954541-fc86-4dde-c46e-f94bfb9ecc8f"
      },
      "outputs": [
        {
          "name": "stdout",
          "output_type": "stream",
          "text": [
            "Found 854 images belonging to 1 classes.\n"
          ]
        }
      ],
      "source": [
        "test_datagen= ImageDataGenerator(rescale=1./255)\n",
        "test_ulcer_dir='/drive/MyDrive/WCE/ANGIODYSPLASIA DETECTION AND LOCALIZATION/angiodysplasia/test_ulcer'\n",
        "test_ulcer_content_dir= '/drive/MyDrive/WCE/ANGIODYSPLASIA DETECTION AND LOCALIZATION/angiodysplasia/test_ulcer/ulcer_rename'\n",
        "len_ulcer= (len(os.listdir(test_ulcer_content_dir)))\n",
        "test_generator = test_datagen.flow_from_directory(test_ulcer_dir,\n",
        "                                                  target_size=(input_size, input_size),\n",
        "                                                  batch_size=1,\n",
        "                                                  shuffle= False,\n",
        "                                                  class_mode='categorical')"
      ]
    },
    {
      "cell_type": "code",
      "execution_count": null,
      "metadata": {
        "colab": {
          "base_uri": "https://localhost:8080/"
        },
        "id": "IQpv8P8u83xQ",
        "outputId": "8929c827-ea95-4b07-9b36-552037fb662a"
      },
      "outputs": [
        {
          "name": "stdout",
          "output_type": "stream",
          "text": [
            "449\n",
            "382\n",
            "6\n",
            "17\n",
            "NPV:  0.9929742388758782\n"
          ]
        }
      ],
      "source": [
        "import cv2\n",
        "import numpy as np\n",
        "dim = (input_size,input_size)\n",
        "\n",
        "pred=[]\n",
        "for i in range(len_ulcer):\n",
        "  image,target=next(test_generator)\n",
        "  ypred = new_model.predict(image)\n",
        "  ypred= np.argmax(ypred, axis=1)\n",
        "  #print(ypred)\n",
        "  pred.append(ypred[0])\n",
        "\n",
        "df= pd.DataFrame(pred, columns=['predicted'])\n",
        "print(len(df[df['predicted']==0]))\n",
        "print(len(df[df['predicted']==1]))\n",
        "print(len(df[df['predicted']==2]))\n",
        "print(len(df[df['predicted']==3]))\n",
        "print('NPV: ', len(df[df['predicted']!=2])/len(df))"
      ]
    },
    {
      "cell_type": "markdown",
      "metadata": {
        "id": "7CA3SpX_kJIY"
      },
      "source": [
        "## erosion"
      ]
    },
    {
      "cell_type": "code",
      "execution_count": null,
      "metadata": {
        "colab": {
          "base_uri": "https://localhost:8080/"
        },
        "id": "OZyWmjVEkKaW",
        "outputId": "d92c5b47-8a33-435d-d2e0-75a03203587b"
      },
      "outputs": [
        {
          "name": "stdout",
          "output_type": "stream",
          "text": [
            "Found 438 images belonging to 1 classes.\n"
          ]
        }
      ],
      "source": [
        "test_datagen= ImageDataGenerator(rescale=1./255)\n",
        "test_erosion_dir='/drive/MyDrive/WCE/ANGIODYSPLASIA DETECTION AND LOCALIZATION/angiodysplasia/test_erosion'\n",
        "test_erosion_content_dir= '/drive/MyDrive/WCE/ANGIODYSPLASIA DETECTION AND LOCALIZATION/angiodysplasia/test_erosion/erosion_rename'\n",
        "len_erosion= (len(os.listdir(test_erosion_content_dir)))\n",
        "test_generator = test_datagen.flow_from_directory(test_erosion_dir,\n",
        "                                                  target_size=(input_size, input_size),\n",
        "                                                  batch_size=1,\n",
        "                                                  shuffle= False,\n",
        "                                                  class_mode='categorical')"
      ]
    },
    {
      "cell_type": "code",
      "execution_count": null,
      "metadata": {
        "colab": {
          "base_uri": "https://localhost:8080/"
        },
        "id": "9MfQObSLkM7Y",
        "outputId": "bc44521e-fcb3-4fcc-8fc9-db9f3a0087b0"
      },
      "outputs": [
        {
          "name": "stdout",
          "output_type": "stream",
          "text": [
            "292\n",
            "108\n",
            "10\n",
            "28\n",
            "NPV:  0.9771689497716894\n"
          ]
        }
      ],
      "source": [
        "import cv2\n",
        "import numpy as np\n",
        "dim = (input_size,input_size)\n",
        "pred=[]\n",
        "for i in range(len_erosion):\n",
        "  image,target=next(test_generator)\n",
        "  ypred = new_model.predict(image)\n",
        "  ypred= np.argmax(ypred, axis=1)\n",
        "  #print(ypred)\n",
        "  pred.append(ypred[0])\n",
        "\n",
        "df= pd.DataFrame(pred, columns=['predicted'])\n",
        "print(len(df[df['predicted']==0]))\n",
        "print(len(df[df['predicted']==1]))\n",
        "print(len(df[df['predicted']==2]))\n",
        "print(len(df[df['predicted']==3]))\n",
        "print('NPV: ', len(df[df['predicted']!=2])/len(df))"
      ]
    },
    {
      "cell_type": "markdown",
      "metadata": {
        "id": "qnRXQRq3ljYe"
      },
      "source": [
        "## polyp"
      ]
    },
    {
      "cell_type": "code",
      "execution_count": null,
      "metadata": {
        "colab": {
          "base_uri": "https://localhost:8080/"
        },
        "id": "xSlOabjmloH9",
        "outputId": "7f76a90a-a539-4f09-f6f9-ad459611b0f2"
      },
      "outputs": [
        {
          "name": "stdout",
          "output_type": "stream",
          "text": [
            "Found 64 images belonging to 1 classes.\n"
          ]
        }
      ],
      "source": [
        "test_datagen= ImageDataGenerator(rescale=1./255)\n",
        "test_polyp_dir='/drive/MyDrive/WCE/ANGIODYSPLASIA DETECTION AND LOCALIZATION/angiodysplasia/test_polyp'\n",
        "test_polyp_content_dir= '/drive/MyDrive/WCE/ANGIODYSPLASIA DETECTION AND LOCALIZATION/angiodysplasia/test_polyp/Polyp'\n",
        "len_polyp= (len(os.listdir(test_polyp_content_dir)))\n",
        "test_generator = test_datagen.flow_from_directory(test_polyp_dir,\n",
        "                                                  target_size=(input_size, input_size),\n",
        "                                                  batch_size=1,\n",
        "                                                  shuffle= False,\n",
        "                                                  class_mode='categorical')"
      ]
    },
    {
      "cell_type": "code",
      "execution_count": null,
      "metadata": {
        "colab": {
          "base_uri": "https://localhost:8080/"
        },
        "id": "OEsr-FzSloH-",
        "outputId": "7de6c0a8-259a-4367-cf19-28207d444595"
      },
      "outputs": [
        {
          "name": "stdout",
          "output_type": "stream",
          "text": [
            "55\n",
            "1\n",
            "8\n",
            "0\n",
            "NPV:  0.875\n"
          ]
        }
      ],
      "source": [
        "import cv2\n",
        "import numpy as np\n",
        "dim = (input_size,input_size)\n",
        "pred=[]\n",
        "for i in range(len_polyp):\n",
        "  image,target=next(test_generator)\n",
        "  ypred = new_model.predict(image)\n",
        "  ypred= np.argmax(ypred, axis=1)\n",
        "  #print(ypred)\n",
        "  pred.append(ypred[0])\n",
        "\n",
        "df= pd.DataFrame(pred, columns=['predicted'])\n",
        "print(len(df[df['predicted']==0]))\n",
        "print(len(df[df['predicted']==1]))\n",
        "print(len(df[df['predicted']==2]))\n",
        "print(len(df[df['predicted']==3]))\n",
        "print('NPV: ', len(df[df['predicted']!=2])/len(df))"
      ]
    },
    {
      "cell_type": "markdown",
      "metadata": {
        "id": "Fk5jAiYPmHwU"
      },
      "source": [
        "## blood"
      ]
    },
    {
      "cell_type": "code",
      "execution_count": null,
      "metadata": {
        "colab": {
          "base_uri": "https://localhost:8080/"
        },
        "id": "RPWdrQMpmHwU",
        "outputId": "1c724c3b-5518-4ff2-a6b8-2bdaf54ad803"
      },
      "outputs": [
        {
          "name": "stdout",
          "output_type": "stream",
          "text": [
            "Found 419 images belonging to 1 classes.\n"
          ]
        }
      ],
      "source": [
        "test_datagen= ImageDataGenerator(rescale=1./255)\n",
        "test_blood_dir='/drive/MyDrive/WCE/ANGIODYSPLASIA DETECTION AND LOCALIZATION/angiodysplasia/test_blood'\n",
        "test_blood_content_dir= '/drive/MyDrive/WCE/ANGIODYSPLASIA DETECTION AND LOCALIZATION/angiodysplasia/test_blood/Blood'\n",
        "len_blood= (len(os.listdir(test_blood_content_dir)))\n",
        "test_generator = test_datagen.flow_from_directory(test_blood_dir,\n",
        "                                                  target_size=(input_size, input_size),\n",
        "                                                  batch_size=1,\n",
        "                                                  shuffle= False,\n",
        "                                                  class_mode='categorical')"
      ]
    },
    {
      "cell_type": "code",
      "execution_count": null,
      "metadata": {
        "colab": {
          "base_uri": "https://localhost:8080/"
        },
        "id": "PoiLLroOmHwV",
        "outputId": "d02dc02d-5ed2-4d55-e5b7-5a5847f62c19"
      },
      "outputs": [
        {
          "name": "stdout",
          "output_type": "stream",
          "text": [
            "413\n",
            "0\n",
            "1\n",
            "5\n",
            "NPV:  0.9976133651551312\n"
          ]
        }
      ],
      "source": [
        "import cv2\n",
        "import numpy as np\n",
        "dim = (input_size,input_size)\n",
        "pred=[]\n",
        "for i in range(len_blood):\n",
        "  image,target=next(test_generator)\n",
        "  ypred = new_model.predict(image)\n",
        "  ypred= np.argmax(ypred, axis=1)\n",
        "  #print(ypred)\n",
        "  pred.append(ypred[0])\n",
        "\n",
        "df= pd.DataFrame(pred, columns=['predicted'])\n",
        "print(len(df[df['predicted']==0]))\n",
        "print(len(df[df['predicted']==1]))\n",
        "print(len(df[df['predicted']==2]))\n",
        "print(len(df[df['predicted']==3]))\n",
        "print('NPV: ', len(df[df['predicted']!=2])/len(df))"
      ]
    },
    {
      "cell_type": "markdown",
      "metadata": {
        "id": "KCQqE90KmkHd"
      },
      "source": [
        "## erythema"
      ]
    },
    {
      "cell_type": "code",
      "execution_count": null,
      "metadata": {
        "colab": {
          "base_uri": "https://localhost:8080/"
        },
        "id": "gpXIb8bQmkHe",
        "outputId": "473be8a6-c4e1-48af-bdee-99ebf6cd0d6e"
      },
      "outputs": [
        {
          "name": "stdout",
          "output_type": "stream",
          "text": [
            "Found 238 images belonging to 1 classes.\n"
          ]
        }
      ],
      "source": [
        "test_datagen= ImageDataGenerator(rescale=1./255)\n",
        "test_erythema_dir='/drive/MyDrive/WCE/ANGIODYSPLASIA DETECTION AND LOCALIZATION/angiodysplasia/test_erythematous'\n",
        "test_erythema_content_dir= '/drive/MyDrive/WCE/ANGIODYSPLASIA DETECTION AND LOCALIZATION/angiodysplasia/test_erythematous/Erythematous'\n",
        "len_erythema= (len(os.listdir(test_erythema_content_dir)))\n",
        "test_generator = test_datagen.flow_from_directory(test_erythema_dir,\n",
        "                                                  target_size=(input_size, input_size),\n",
        "                                                  batch_size=1,\n",
        "                                                  shuffle= False,\n",
        "                                                  class_mode='categorical')"
      ]
    },
    {
      "cell_type": "code",
      "execution_count": null,
      "metadata": {
        "colab": {
          "base_uri": "https://localhost:8080/"
        },
        "id": "-iDtXnFzmkHf",
        "outputId": "0337918e-145d-4333-fb90-c1b6843f6d56"
      },
      "outputs": [
        {
          "name": "stdout",
          "output_type": "stream",
          "text": [
            "178\n",
            "54\n",
            "0\n",
            "6\n",
            "NPV:  1.0\n"
          ]
        }
      ],
      "source": [
        "import cv2\n",
        "import numpy as np\n",
        "dim = (input_size,input_size)\n",
        "pred=[]\n",
        "for i in range(len_erythema):\n",
        "  image,target=next(test_generator)\n",
        "  ypred = new_model.predict(image)\n",
        "  ypred= np.argmax(ypred, axis=1)\n",
        "  #print(ypred)\n",
        "  pred.append(ypred[0])\n",
        "\n",
        "df= pd.DataFrame(pred, columns=['predicted'])\n",
        "print(len(df[df['predicted']==0]))\n",
        "print(len(df[df['predicted']==1]))\n",
        "print(len(df[df['predicted']==2]))\n",
        "print(len(df[df['predicted']==3]))\n",
        "print('NPV: ', len(df[df['predicted']!=2])/len(df))"
      ]
    },
    {
      "cell_type": "markdown",
      "metadata": {
        "id": "k1wBwIzinSDY"
      },
      "source": [
        "## Lymphoid Hyperplasia"
      ]
    },
    {
      "cell_type": "code",
      "execution_count": null,
      "metadata": {
        "colab": {
          "base_uri": "https://localhost:8080/"
        },
        "id": "yqlsSNWGnSDh",
        "outputId": "b5e8e09b-24bc-47d9-edb4-32127ea1f9eb"
      },
      "outputs": [
        {
          "name": "stdout",
          "output_type": "stream",
          "text": [
            "Found 592 images belonging to 1 classes.\n"
          ]
        }
      ],
      "source": [
        "test_datagen= ImageDataGenerator(rescale=1./255)\n",
        "test_lymphhyperplasia_dir='/drive/MyDrive/WCE/ANGIODYSPLASIA DETECTION AND LOCALIZATION/angiodysplasia/test_lymphoidhyperplasia'\n",
        "test_lymphhyperplasia_content_dir= '/drive/MyDrive/WCE/ANGIODYSPLASIA DETECTION AND LOCALIZATION/angiodysplasia/test_lymphoidhyperplasia/Lymphoid Hyperplasia'\n",
        "len_lymphhyperplasia= (len(os.listdir(test_lymphhyperplasia_content_dir)))\n",
        "test_generator = test_datagen.flow_from_directory(test_lymphhyperplasia_dir,\n",
        "                                                  target_size=(input_size, input_size),\n",
        "                                                  batch_size=1,\n",
        "                                                  shuffle= False,\n",
        "                                                  class_mode='categorical')"
      ]
    },
    {
      "cell_type": "code",
      "execution_count": null,
      "metadata": {
        "colab": {
          "base_uri": "https://localhost:8080/"
        },
        "id": "2qmvdPSknSDi",
        "outputId": "1994e586-fd61-411e-c492-d2a4c8147a23"
      },
      "outputs": [
        {
          "name": "stdout",
          "output_type": "stream",
          "text": [
            "579\n",
            "7\n",
            "0\n",
            "6\n",
            "NPV:  1.0\n"
          ]
        }
      ],
      "source": [
        "import cv2\n",
        "import numpy as np\n",
        "dim = (input_size,input_size)\n",
        "pred=[]\n",
        "for i in range(len_lymphhyperplasia):\n",
        "  image,target=next(test_generator)\n",
        "  ypred = new_model.predict(image)\n",
        "  ypred= np.argmax(ypred, axis=1)\n",
        "  #print(ypred)\n",
        "  pred.append(ypred[0])\n",
        "\n",
        "df= pd.DataFrame(pred, columns=['predicted'])\n",
        "print(len(df[df['predicted']==0]))\n",
        "print(len(df[df['predicted']==1]))\n",
        "print(len(df[df['predicted']==2]))\n",
        "print(len(df[df['predicted']==3]))\n",
        "print('NPV: ', len(df[df['predicted']!=2])/len(df))"
      ]
    }
  ],
  "metadata": {
    "accelerator": "GPU",
    "colab": {
      "collapsed_sections": [
        "AqeaINSxtVMY"
      ],
      "machine_shape": "hm",
      "provenance": [],
      "include_colab_link": true
    },
    "gpuClass": "standard",
    "kernelspec": {
      "display_name": "Python 3",
      "name": "python3"
    },
    "language_info": {
      "name": "python"
    }
  },
  "nbformat": 4,
  "nbformat_minor": 0
}